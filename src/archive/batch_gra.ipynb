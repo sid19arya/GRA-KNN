{
 "cells": [
  {
   "cell_type": "code",
   "execution_count": 2,
   "metadata": {},
   "outputs": [
    {
     "name": "stdout",
     "output_type": "stream",
     "text": [
      "WARNING:tensorflow:From c:\\Users\\aryas\\AppData\\Local\\Programs\\Python\\Python310\\lib\\site-packages\\keras\\src\\losses.py:2976: The name tf.losses.sparse_softmax_cross_entropy is deprecated. Please use tf.compat.v1.losses.sparse_softmax_cross_entropy instead.\n",
      "\n"
     ]
    }
   ],
   "source": [
    "import matplotlib.pyplot as plt\n",
    "import tensorflow as tf\n",
    "from sklearn.neighbors import KNeighborsClassifier\n",
    "from sklearn.preprocessing import StandardScaler\n",
    "from sklearn.decomposition import PCA\n",
    "import numpy as np\n",
    "from sklearn.model_selection import train_test_split\n",
    "import cv2"
   ]
  },
  {
   "cell_type": "code",
   "execution_count": 51,
   "metadata": {},
   "outputs": [],
   "source": [
    "mnist = tf.keras.datasets.mnist\n",
    "\n",
    "(x_train, y_train), (x_test, y_test) = mnist.load_data()\n",
    "# (x_train, y_train), (x_test, y_test) = tf.keras.datasets.fashion_mnist.load_data()\n",
    "x_train = x_train.astype('uint8')   \n",
    "x_test = x_test.astype('uint8')\n",
    "\n",
    "x_train.shape\n",
    "\n",
    "x_train = x_train[:2000]\n",
    "x_test = x_test[:2000]\n",
    "y_train = y_train[:2000]\n",
    "y_test = y_test[:2000]"
   ]
  },
  {
   "cell_type": "code",
   "execution_count": 52,
   "metadata": {},
   "outputs": [],
   "source": [
    "x_train = x_train.reshape(-1, 28*28)\n",
    "x_test = x_test.reshape(-1, 28*28)\n",
    "x_train = x_train.astype('float32')   \n",
    "x_test = x_test.astype('float32')"
   ]
  },
  {
   "cell_type": "code",
   "execution_count": 53,
   "metadata": {},
   "outputs": [
    {
     "name": "stdout",
     "output_type": "stream",
     "text": [
      "k=1, accuracy=86.75%\n",
      "k=5, accuracy=85.90%\n",
      "k=10, accuracy=85.65%\n"
     ]
    }
   ],
   "source": [
    "kVals = [1,5,10]\n",
    "accuracies = []\n",
    "for k in kVals:\n",
    "    # train the classifier with the current value of `k`\n",
    "    model = KNeighborsClassifier(n_neighbors=k)\n",
    "\n",
    "    model.fit(x_train, y_train)\n",
    "\n",
    "    # evaluate the model and print the accuracies list\n",
    "    score = model.score(x_test, y_test)\n",
    "    print(\"k=%d, accuracy=%.2f%%\" % (k, score * 100))\n",
    "    accuracies.append(score)"
   ]
  },
  {
   "cell_type": "code",
   "execution_count": 32,
   "metadata": {},
   "outputs": [
    {
     "name": "stdout",
     "output_type": "stream",
     "text": [
      "k=1, accuracy=82.80%\n"
     ]
    },
    {
     "ename": "KeyboardInterrupt",
     "evalue": "",
     "output_type": "error",
     "traceback": [
      "\u001b[1;31m---------------------------------------------------------------------------\u001b[0m",
      "\u001b[1;31mKeyboardInterrupt\u001b[0m                         Traceback (most recent call last)",
      "\u001b[1;32mc:\\Users\\aryas\\Desktop\\ThirdYear\\CSC311\\GRA-KNN\\GRA-KNN\\src\\archive\\batch_gra.ipynb Cell 5\u001b[0m line \u001b[0;36m8\n\u001b[0;32m      <a href='vscode-notebook-cell:/c%3A/Users/aryas/Desktop/ThirdYear/CSC311/GRA-KNN/GRA-KNN/src/archive/batch_gra.ipynb#W4sZmlsZQ%3D%3D?line=4'>5</a>\u001b[0m \u001b[39mfor\u001b[39;00m i \u001b[39min\u001b[39;00m \u001b[39mrange\u001b[39m(\u001b[39mlen\u001b[39m(x_test)):\n\u001b[0;32m      <a href='vscode-notebook-cell:/c%3A/Users/aryas/Desktop/ThirdYear/CSC311/GRA-KNN/GRA-KNN/src/archive/batch_gra.ipynb#W4sZmlsZQ%3D%3D?line=5'>6</a>\u001b[0m     x \u001b[39m=\u001b[39m x_test[i]\n\u001b[1;32m----> <a href='vscode-notebook-cell:/c%3A/Users/aryas/Desktop/ThirdYear/CSC311/GRA-KNN/GRA-KNN/src/archive/batch_gra.ipynb#W4sZmlsZQ%3D%3D?line=7'>8</a>\u001b[0m     distances \u001b[39m=\u001b[39m [np\u001b[39m.\u001b[39mlinalg\u001b[39m.\u001b[39mnorm(x \u001b[39m-\u001b[39m data_point) \u001b[39mfor\u001b[39;00m data_point \u001b[39min\u001b[39;00m x_train]\n\u001b[0;32m     <a href='vscode-notebook-cell:/c%3A/Users/aryas/Desktop/ThirdYear/CSC311/GRA-KNN/GRA-KNN/src/archive/batch_gra.ipynb#W4sZmlsZQ%3D%3D?line=9'>10</a>\u001b[0m     k_neighbors_indices \u001b[39m=\u001b[39m np\u001b[39m.\u001b[39margsort(distances)[:k]\n\u001b[0;32m     <a href='vscode-notebook-cell:/c%3A/Users/aryas/Desktop/ThirdYear/CSC311/GRA-KNN/GRA-KNN/src/archive/batch_gra.ipynb#W4sZmlsZQ%3D%3D?line=10'>11</a>\u001b[0m     k_neighbor_labels \u001b[39m=\u001b[39m [y_train[i] \u001b[39mfor\u001b[39;00m i \u001b[39min\u001b[39;00m k_neighbors_indices]\n",
      "\u001b[1;32mc:\\Users\\aryas\\Desktop\\ThirdYear\\CSC311\\GRA-KNN\\GRA-KNN\\src\\archive\\batch_gra.ipynb Cell 5\u001b[0m line \u001b[0;36m8\n\u001b[0;32m      <a href='vscode-notebook-cell:/c%3A/Users/aryas/Desktop/ThirdYear/CSC311/GRA-KNN/GRA-KNN/src/archive/batch_gra.ipynb#W4sZmlsZQ%3D%3D?line=4'>5</a>\u001b[0m \u001b[39mfor\u001b[39;00m i \u001b[39min\u001b[39;00m \u001b[39mrange\u001b[39m(\u001b[39mlen\u001b[39m(x_test)):\n\u001b[0;32m      <a href='vscode-notebook-cell:/c%3A/Users/aryas/Desktop/ThirdYear/CSC311/GRA-KNN/GRA-KNN/src/archive/batch_gra.ipynb#W4sZmlsZQ%3D%3D?line=5'>6</a>\u001b[0m     x \u001b[39m=\u001b[39m x_test[i]\n\u001b[1;32m----> <a href='vscode-notebook-cell:/c%3A/Users/aryas/Desktop/ThirdYear/CSC311/GRA-KNN/GRA-KNN/src/archive/batch_gra.ipynb#W4sZmlsZQ%3D%3D?line=7'>8</a>\u001b[0m     distances \u001b[39m=\u001b[39m [np\u001b[39m.\u001b[39;49mlinalg\u001b[39m.\u001b[39;49mnorm(x \u001b[39m-\u001b[39;49m data_point) \u001b[39mfor\u001b[39;00m data_point \u001b[39min\u001b[39;00m x_train]\n\u001b[0;32m     <a href='vscode-notebook-cell:/c%3A/Users/aryas/Desktop/ThirdYear/CSC311/GRA-KNN/GRA-KNN/src/archive/batch_gra.ipynb#W4sZmlsZQ%3D%3D?line=9'>10</a>\u001b[0m     k_neighbors_indices \u001b[39m=\u001b[39m np\u001b[39m.\u001b[39margsort(distances)[:k]\n\u001b[0;32m     <a href='vscode-notebook-cell:/c%3A/Users/aryas/Desktop/ThirdYear/CSC311/GRA-KNN/GRA-KNN/src/archive/batch_gra.ipynb#W4sZmlsZQ%3D%3D?line=10'>11</a>\u001b[0m     k_neighbor_labels \u001b[39m=\u001b[39m [y_train[i] \u001b[39mfor\u001b[39;00m i \u001b[39min\u001b[39;00m k_neighbors_indices]\n",
      "File \u001b[1;32m<__array_function__ internals>:180\u001b[0m, in \u001b[0;36mnorm\u001b[1;34m(*args, **kwargs)\u001b[0m\n",
      "File \u001b[1;32mc:\\Users\\aryas\\AppData\\Local\\Programs\\Python\\Python310\\lib\\site-packages\\numpy\\linalg\\linalg.py:2338\u001b[0m, in \u001b[0;36m_norm_dispatcher\u001b[1;34m(x, ord, axis, keepdims)\u001b[0m\n\u001b[0;32m   2334\u001b[0m     result \u001b[39m=\u001b[39m op(svd(y, compute_uv\u001b[39m=\u001b[39m\u001b[39mFalse\u001b[39;00m), axis\u001b[39m=\u001b[39m\u001b[39m-\u001b[39m\u001b[39m1\u001b[39m)\n\u001b[0;32m   2335\u001b[0m     \u001b[39mreturn\u001b[39;00m result\n\u001b[1;32m-> 2338\u001b[0m \u001b[39mdef\u001b[39;00m \u001b[39m_norm_dispatcher\u001b[39m(x, \u001b[39mord\u001b[39m\u001b[39m=\u001b[39m\u001b[39mNone\u001b[39;00m, axis\u001b[39m=\u001b[39m\u001b[39mNone\u001b[39;00m, keepdims\u001b[39m=\u001b[39m\u001b[39mNone\u001b[39;00m):\n\u001b[0;32m   2339\u001b[0m     \u001b[39mreturn\u001b[39;00m (x,)\n\u001b[0;32m   2342\u001b[0m \u001b[39m@array_function_dispatch\u001b[39m(_norm_dispatcher)\n\u001b[0;32m   2343\u001b[0m \u001b[39mdef\u001b[39;00m \u001b[39mnorm\u001b[39m(x, \u001b[39mord\u001b[39m\u001b[39m=\u001b[39m\u001b[39mNone\u001b[39;00m, axis\u001b[39m=\u001b[39m\u001b[39mNone\u001b[39;00m, keepdims\u001b[39m=\u001b[39m\u001b[39mFalse\u001b[39;00m):\n",
      "\u001b[1;31mKeyboardInterrupt\u001b[0m: "
     ]
    }
   ],
   "source": [
    "kVals = [1,5,10]\n",
    "\n",
    "for k in kVals:\n",
    "    count = 0\n",
    "    for i in range(len(x_test)):\n",
    "        x = x_test[i]\n",
    "        \n",
    "        distances = [np.linalg.norm(x - data_point) for data_point in x_train]\n",
    "\n",
    "        k_neighbors_indices = np.argsort(distances)[:k]\n",
    "        k_neighbor_labels = [y_train[i] for i in k_neighbors_indices]\n",
    "        \n",
    "        # Return the most common class label\n",
    "        most_common = np.bincount(k_neighbor_labels).argmax()\n",
    "        if most_common == y_test[i]:\n",
    "            count += 1\n",
    "    score = count / len(x_test)\n",
    "    print(\"k=%d, accuracy=%.2f%%\" % (k, score * 100))\n",
    "\n"
   ]
  },
  {
   "cell_type": "code",
   "execution_count": 54,
   "metadata": {},
   "outputs": [],
   "source": [
    "from sklearn.tree import DecisionTreeClassifier"
   ]
  },
  {
   "cell_type": "code",
   "execution_count": 55,
   "metadata": {},
   "outputs": [
    {
     "data": {
      "text/plain": [
       "101"
      ]
     },
     "execution_count": 55,
     "metadata": {},
     "output_type": "execute_result"
    }
   ],
   "source": [
    "# Train a Decision Tree on the data (Decision tree uses IG for the splits)\n",
    "tree = DecisionTreeClassifier(random_state=0)\n",
    "tree.fit(x_train, y_train)\n",
    "importances = tree.feature_importances_\n",
    "indices = np.argsort(importances)[::-1]\n",
    "indices[0]"
   ]
  },
  {
   "cell_type": "code",
   "execution_count": 56,
   "metadata": {},
   "outputs": [
    {
     "name": "stdout",
     "output_type": "stream",
     "text": [
      "[101 455 461 401 211 377 263 178 541 271 376 155 378 567 408 318 487 296\n",
      " 653 298  97 273 319 381 566 656 657 626 438 291 463 295 404 468 316 518\n",
      " 153 323 458 513 326  95 349 488 431 521 351 539 267 380 188 405 156 190\n",
      " 191 352 372 429 426 407 570 602 356 632 459 128 234 350 315 290 540 467\n",
      " 346 265 207 460 182 294 180 597 486 519 576 268 216 300 375 344 500 208\n",
      " 692 515 382 628 573 466 325 210 516 347]\n"
     ]
    },
    {
     "data": {
      "text/plain": [
       "71.0"
      ]
     },
     "execution_count": 56,
     "metadata": {},
     "output_type": "execute_result"
    }
   ],
   "source": [
    "N = 100  # Change this to select number of features based on IG\n",
    "selected_features = indices[:N]\n",
    "print(selected_features)\n",
    "# Apply the selection to training and test data\n",
    "x_train_selected = x_train[:, selected_features]\n",
    "x_test_selected = x_test[:, selected_features]\n",
    "\n",
    "x_train[1][347]\n",
    "# x_train_selected[1][0]"
   ]
  },
  {
   "cell_type": "code",
   "execution_count": 57,
   "metadata": {},
   "outputs": [
    {
     "name": "stdout",
     "output_type": "stream",
     "text": [
      "k=1, accuracy=83.95%\n",
      "k=5, accuracy=83.75%\n",
      "k=10, accuracy=82.35%\n",
      "k=20, accuracy=80.05%\n",
      "k=30, accuracy=77.50%\n"
     ]
    }
   ],
   "source": [
    "kVals = [1, 5, 10, 20, 30]\n",
    "accuracies = []\n",
    "\n",
    "for k in kVals:\n",
    "    model = KNeighborsClassifier(n_neighbors=k)\n",
    "    model.fit(x_train_selected, y_train)\n",
    "    score = model.score(x_test_selected, y_test)\n",
    "    print(f\"k={k}, accuracy={score * 100:.2f}%\")\n",
    "    accuracies.append(score)"
   ]
  },
  {
   "cell_type": "code",
   "execution_count": 58,
   "metadata": {},
   "outputs": [
    {
     "name": "stdout",
     "output_type": "stream",
     "text": [
      "k=5, accuracy=15.65%\n",
      "k=10, accuracy=22.65%\n"
     ]
    },
    {
     "ename": "KeyboardInterrupt",
     "evalue": "",
     "output_type": "error",
     "traceback": [
      "\u001b[1;31m---------------------------------------------------------------------------\u001b[0m",
      "\u001b[1;31mKeyboardInterrupt\u001b[0m                         Traceback (most recent call last)",
      "\u001b[1;32mc:\\Users\\aryas\\Desktop\\ThirdYear\\CSC311\\GRA-KNN\\GRA-KNN\\src\\archive\\batch_gra.ipynb Cell 10\u001b[0m line \u001b[0;36m7\n\u001b[0;32m      <a href='vscode-notebook-cell:/c%3A/Users/aryas/Desktop/ThirdYear/CSC311/GRA-KNN/GRA-KNN/src/archive/batch_gra.ipynb#X12sZmlsZQ%3D%3D?line=3'>4</a>\u001b[0m \u001b[39mfor\u001b[39;00m i \u001b[39min\u001b[39;00m \u001b[39mrange\u001b[39m(\u001b[39mlen\u001b[39m(x_test_selected)):\n\u001b[0;32m      <a href='vscode-notebook-cell:/c%3A/Users/aryas/Desktop/ThirdYear/CSC311/GRA-KNN/GRA-KNN/src/archive/batch_gra.ipynb#X12sZmlsZQ%3D%3D?line=4'>5</a>\u001b[0m     x \u001b[39m=\u001b[39m x_test_selected[i]\n\u001b[1;32m----> <a href='vscode-notebook-cell:/c%3A/Users/aryas/Desktop/ThirdYear/CSC311/GRA-KNN/GRA-KNN/src/archive/batch_gra.ipynb#X12sZmlsZQ%3D%3D?line=6'>7</a>\u001b[0m     distance_matrix \u001b[39m=\u001b[39m np\u001b[39m.\u001b[39;49margsort(\u001b[39mabs\u001b[39;49m(x \u001b[39m-\u001b[39;49m x_train_selected), axis\u001b[39m=\u001b[39;49m\u001b[39m0\u001b[39;49m)\n\u001b[0;32m      <a href='vscode-notebook-cell:/c%3A/Users/aryas/Desktop/ThirdYear/CSC311/GRA-KNN/GRA-KNN/src/archive/batch_gra.ipynb#X12sZmlsZQ%3D%3D?line=7'>8</a>\u001b[0m     k_neighbor_labels \u001b[39m=\u001b[39m np\u001b[39m.\u001b[39marray([])\n\u001b[0;32m      <a href='vscode-notebook-cell:/c%3A/Users/aryas/Desktop/ThirdYear/CSC311/GRA-KNN/GRA-KNN/src/archive/batch_gra.ipynb#X12sZmlsZQ%3D%3D?line=8'>9</a>\u001b[0m     k_star \u001b[39m=\u001b[39m k\n",
      "File \u001b[1;32m<__array_function__ internals>:200\u001b[0m, in \u001b[0;36margsort\u001b[1;34m(*args, **kwargs)\u001b[0m\n",
      "File \u001b[1;32mc:\\Users\\aryas\\AppData\\Local\\Programs\\Python\\Python310\\lib\\site-packages\\numpy\\core\\fromnumeric.py:1146\u001b[0m, in \u001b[0;36margsort\u001b[1;34m(a, axis, kind, order)\u001b[0m\n\u001b[0;32m   1038\u001b[0m \u001b[39m@array_function_dispatch\u001b[39m(_argsort_dispatcher)\n\u001b[0;32m   1039\u001b[0m \u001b[39mdef\u001b[39;00m \u001b[39margsort\u001b[39m(a, axis\u001b[39m=\u001b[39m\u001b[39m-\u001b[39m\u001b[39m1\u001b[39m, kind\u001b[39m=\u001b[39m\u001b[39mNone\u001b[39;00m, order\u001b[39m=\u001b[39m\u001b[39mNone\u001b[39;00m):\n\u001b[0;32m   1040\u001b[0m     \u001b[39m\"\"\"\u001b[39;00m\n\u001b[0;32m   1041\u001b[0m \u001b[39m    Returns the indices that would sort an array.\u001b[39;00m\n\u001b[0;32m   1042\u001b[0m \n\u001b[1;32m   (...)\u001b[0m\n\u001b[0;32m   1144\u001b[0m \n\u001b[0;32m   1145\u001b[0m \u001b[39m    \"\"\"\u001b[39;00m\n\u001b[1;32m-> 1146\u001b[0m     \u001b[39mreturn\u001b[39;00m _wrapfunc(a, \u001b[39m'\u001b[39;49m\u001b[39margsort\u001b[39;49m\u001b[39m'\u001b[39;49m, axis\u001b[39m=\u001b[39;49maxis, kind\u001b[39m=\u001b[39;49mkind, order\u001b[39m=\u001b[39;49morder)\n",
      "File \u001b[1;32mc:\\Users\\aryas\\AppData\\Local\\Programs\\Python\\Python310\\lib\\site-packages\\numpy\\core\\fromnumeric.py:57\u001b[0m, in \u001b[0;36m_wrapfunc\u001b[1;34m(obj, method, *args, **kwds)\u001b[0m\n\u001b[0;32m     54\u001b[0m     \u001b[39mreturn\u001b[39;00m _wrapit(obj, method, \u001b[39m*\u001b[39margs, \u001b[39m*\u001b[39m\u001b[39m*\u001b[39mkwds)\n\u001b[0;32m     56\u001b[0m \u001b[39mtry\u001b[39;00m:\n\u001b[1;32m---> 57\u001b[0m     \u001b[39mreturn\u001b[39;00m bound(\u001b[39m*\u001b[39margs, \u001b[39m*\u001b[39m\u001b[39m*\u001b[39mkwds)\n\u001b[0;32m     58\u001b[0m \u001b[39mexcept\u001b[39;00m \u001b[39mTypeError\u001b[39;00m:\n\u001b[0;32m     59\u001b[0m     \u001b[39m# A TypeError occurs if the object does have such a method in its\u001b[39;00m\n\u001b[0;32m     60\u001b[0m     \u001b[39m# class, but its signature is not identical to that of NumPy's. This\u001b[39;00m\n\u001b[1;32m   (...)\u001b[0m\n\u001b[0;32m     64\u001b[0m     \u001b[39m# Call _wrapit from within the except clause to ensure a potential\u001b[39;00m\n\u001b[0;32m     65\u001b[0m     \u001b[39m# exception has a traceback chain.\u001b[39;00m\n\u001b[0;32m     66\u001b[0m     \u001b[39mreturn\u001b[39;00m _wrapit(obj, method, \u001b[39m*\u001b[39margs, \u001b[39m*\u001b[39m\u001b[39m*\u001b[39mkwds)\n",
      "\u001b[1;31mKeyboardInterrupt\u001b[0m: "
     ]
    }
   ],
   "source": [
    "kVals = [5,10,20,30,50,100]\n",
    "for k in kVals:\n",
    "    count = 0\n",
    "    for i in range(len(x_test_selected)):\n",
    "        x = x_test_selected[i]\n",
    "\n",
    "        distance_matrix = np.argsort(abs(x - x_train_selected), axis=0)\n",
    "        k_neighbor_labels = np.array([])\n",
    "        k_star = k\n",
    "        for l in range(len(x)):\n",
    "            if k_star <= 0: break\n",
    "            # print(l)\n",
    "            # print('...')\n",
    "            # print(distance_matrix[:, l][:k_star])\n",
    "            distances_along_axis = np.array(distance_matrix[:,l][:k_star])\n",
    "\n",
    "            k_neighbor_labels = np.concatenate([k_neighbor_labels,distances_along_axis])\n",
    "            k_star -= 1\n",
    "\n",
    "\n",
    "        # k_neighbors_indices = np.argsort(distances)[:k]\n",
    "        # k_neighbor_labels = [y_train[i] for i in k_neighbors_indices]\n",
    "        \n",
    "        # Return the most common class label\n",
    "        # print(k_neighbor_labels)\n",
    "        \n",
    "        labels = y_train[np.array(k_neighbor_labels).flatten().astype(int)]\n",
    "\n",
    "        most_common = np.bincount(labels).argmax()\n",
    "        if most_common == y_test[i]:\n",
    "            count += 1\n",
    "    score = count / len(x_test_selected)\n",
    "    print(\"k=%d, accuracy=%.2f%%\" % (k, score * 100))"
   ]
  },
  {
   "cell_type": "code",
   "execution_count": 59,
   "metadata": {},
   "outputs": [
    {
     "name": "stdout",
     "output_type": "stream",
     "text": [
      "k=5, accuracy=10.35%\n",
      "k=10, accuracy=10.30%\n",
      "k=20, accuracy=10.30%\n",
      "k=30, accuracy=10.65%\n",
      "k=50, accuracy=20.45%\n",
      "k=100, accuracy=69.90%\n"
     ]
    }
   ],
   "source": [
    "kVals = [5,10,20,30,50,100]\n",
    "for k in kVals:\n",
    "    count = 0\n",
    "    for i in range(len(x_test)):\n",
    "        x = x_test[i]\n",
    "        k_neighbor_labels = np.array([])\n",
    "        k_star = k\n",
    "        for l in selected_features:\n",
    "            # distances = [np.linalg.norm(x - data_point) for data_point in x_train]\n",
    "            imp_feature_neighbours = np.array([l, l-1, l+1, l+28, l-28])\n",
    "            distances = np.linalg.norm(x[imp_feature_neighbours] - x_train[:,imp_feature_neighbours], axis=1)\n",
    "            distances_along_axis = np.argsort(distances)[:k_star]\n",
    "            k_neighbor_labels = np.concatenate([k_neighbor_labels,distances_along_axis])\n",
    "            k_star -= 1\n",
    "        \n",
    "        labels = y_train[np.array(k_neighbor_labels).flatten().astype(int)]\n",
    "\n",
    "        most_common = np.bincount(labels).argmax()\n",
    "        if most_common == y_test[i]:\n",
    "            count += 1\n",
    "    score = count / len(x_test_selected)\n",
    "    print(\"k=%d, accuracy=%.2f%%\" % (k, score * 100))"
   ]
  },
  {
   "cell_type": "code",
   "execution_count": 48,
   "metadata": {},
   "outputs": [
    {
     "data": {
      "text/plain": [
       "array([6731.7515, 4297.405 , 2842.059 , 6553.6353, 6194.0645],\n",
       "      dtype=float32)"
      ]
     },
     "execution_count": 48,
     "metadata": {},
     "output_type": "execute_result"
    }
   ],
   "source": []
  }
 ],
 "metadata": {
  "kernelspec": {
   "display_name": "Python 3",
   "language": "python",
   "name": "python3"
  },
  "language_info": {
   "codemirror_mode": {
    "name": "ipython",
    "version": 3
   },
   "file_extension": ".py",
   "mimetype": "text/x-python",
   "name": "python",
   "nbconvert_exporter": "python",
   "pygments_lexer": "ipython3",
   "version": "3.10.1"
  }
 },
 "nbformat": 4,
 "nbformat_minor": 2
}
