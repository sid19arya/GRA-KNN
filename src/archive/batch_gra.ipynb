{
 "cells": [
  {
   "cell_type": "code",
   "execution_count": 1,
   "metadata": {},
   "outputs": [
    {
     "name": "stdout",
     "output_type": "stream",
     "text": [
      "WARNING:tensorflow:From c:\\Users\\aryas\\AppData\\Local\\Programs\\Python\\Python310\\lib\\site-packages\\keras\\src\\losses.py:2976: The name tf.losses.sparse_softmax_cross_entropy is deprecated. Please use tf.compat.v1.losses.sparse_softmax_cross_entropy instead.\n",
      "\n"
     ]
    }
   ],
   "source": [
    "import matplotlib.pyplot as plt\n",
    "import tensorflow as tf\n",
    "from sklearn.neighbors import KNeighborsClassifier\n",
    "from sklearn.preprocessing import StandardScaler\n",
    "from sklearn.decomposition import PCA\n",
    "import numpy as np\n",
    "from sklearn.model_selection import train_test_split\n",
    "import cv2"
   ]
  },
  {
   "cell_type": "code",
   "execution_count": 20,
   "metadata": {},
   "outputs": [],
   "source": [
    "mnist = tf.keras.datasets.mnist\n",
    "\n",
    "(x_train, y_train), (x_test, y_test) = mnist.load_data()\n",
    "# (x_train, y_train), (x_test, y_test) = tf.keras.datasets.fashion_mnist.load_data()\n",
    "x_train = x_train.astype('uint8')   \n",
    "x_test = x_test.astype('uint8')\n",
    "\n",
    "x_train.shape\n",
    "\n",
    "\n",
    "x_train, x_test, y_train, y_test = train_test_split(x_train, y_train, test_size=0.99)\n",
    "\n",
    "x_train, x_test, y_train, y_test = train_test_split(x_train, y_train, test_size=0.3)\n",
    "\n",
    "# x_train = x_train[:1000]\n",
    "# x_test = x_test[:1000]\n",
    "# y_train = y_train[:1000]\n",
    "# y_test = y_test[:1000]"
   ]
  },
  {
   "cell_type": "code",
   "execution_count": 19,
   "metadata": {},
   "outputs": [
    {
     "data": {
      "text/plain": [
       "(420,)"
      ]
     },
     "execution_count": 19,
     "metadata": {},
     "output_type": "execute_result"
    }
   ],
   "source": [
    "y_train.shape"
   ]
  },
  {
   "cell_type": "code",
   "execution_count": 21,
   "metadata": {},
   "outputs": [],
   "source": [
    "x_train = x_train.reshape(-1, 28*28)\n",
    "x_test = x_test.reshape(-1, 28*28)\n",
    "x_train = x_train.astype('float32')   \n",
    "x_test = x_test.astype('float32')"
   ]
  },
  {
   "cell_type": "code",
   "execution_count": 22,
   "metadata": {},
   "outputs": [
    {
     "name": "stdout",
     "output_type": "stream",
     "text": [
      "k=1, accuracy=83.89%\n",
      "k=5, accuracy=81.67%\n",
      "k=10, accuracy=79.44%\n"
     ]
    }
   ],
   "source": [
    "kVals = [1,5,10]\n",
    "accuracies = []\n",
    "for k in kVals:\n",
    "    # train the classifier with the current value of `k`\n",
    "    model = KNeighborsClassifier(n_neighbors=k)\n",
    "\n",
    "    model.fit(x_train, y_train)\n",
    "\n",
    "    # evaluate the model and print the accuracies list\n",
    "    score = model.score(x_test, y_test)\n",
    "    print(\"k=%d, accuracy=%.2f%%\" % (k, score * 100))\n",
    "    accuracies.append(score)"
   ]
  },
  {
   "cell_type": "code",
   "execution_count": 23,
   "metadata": {},
   "outputs": [
    {
     "name": "stdout",
     "output_type": "stream",
     "text": [
      "k=1, accuracy=83.89%\n",
      "k=5, accuracy=81.67%\n",
      "k=10, accuracy=79.44%\n"
     ]
    }
   ],
   "source": [
    "kVals = [1,5,10]\n",
    "\n",
    "for k in kVals:\n",
    "    count = 0\n",
    "    for i in range(len(x_test)):\n",
    "        x = x_test[i]\n",
    "        \n",
    "        distances = [np.linalg.norm(x - data_point) for data_point in x_train]\n",
    "\n",
    "        k_neighbors_indices = np.argsort(distances)[:k]\n",
    "        k_neighbor_labels = [y_train[i] for i in k_neighbors_indices]\n",
    "        \n",
    "        # Return the most common class label\n",
    "        most_common = np.bincount(k_neighbor_labels).argmax()\n",
    "        if most_common == y_test[i]:\n",
    "            count += 1\n",
    "    score = count / len(x_test)\n",
    "    print(\"k=%d, accuracy=%.2f%%\" % (k, score * 100))\n",
    "\n"
   ]
  },
  {
   "cell_type": "code",
   "execution_count": 24,
   "metadata": {},
   "outputs": [],
   "source": [
    "from sklearn.tree import DecisionTreeClassifier"
   ]
  },
  {
   "cell_type": "code",
   "execution_count": 25,
   "metadata": {},
   "outputs": [
    {
     "data": {
      "text/plain": [
       "378"
      ]
     },
     "execution_count": 25,
     "metadata": {},
     "output_type": "execute_result"
    }
   ],
   "source": [
    "# Train a Decision Tree on the data (Decision tree uses IG for the splits)\n",
    "tree = DecisionTreeClassifier(random_state=0)\n",
    "tree.fit(x_train, y_train)\n",
    "importances = tree.feature_importances_\n",
    "indices = np.argsort(importances)[::-1]\n",
    "indices[0]"
   ]
  },
  {
   "cell_type": "code",
   "execution_count": 39,
   "metadata": {},
   "outputs": [
    {
     "name": "stdout",
     "output_type": "stream",
     "text": [
      "[378 542 402 656 625 346 461 359 211 155 269 345 457 522 271 153 326 405\n",
      " 236 299 521 296 493 398 268 630 489 186 463 266 348 203 545 324 491 356\n",
      " 602 379 265 651 343 458 682 377 177 638 432 494 179 157 401 513 215 462\n",
      " 384 344 207 598 328 209 380 438 623 383 208 261 466 293 237 607 219 715\n",
      " 331 187 425 320 546 414 436 255 258 257 256 235 254 253 252 259 262 260\n",
      " 226 250 263 264 225 224 223 222 206 220]\n"
     ]
    },
    {
     "data": {
      "text/plain": [
       "208.0"
      ]
     },
     "execution_count": 39,
     "metadata": {},
     "output_type": "execute_result"
    }
   ],
   "source": [
    "N = 100  # Change this to select number of features based on IG\n",
    "selected_features = indices[:N]\n",
    "print(selected_features)\n",
    "# Apply the selection to training and test data\n",
    "x_train_selected = x_train[:, selected_features]\n",
    "x_test_selected = x_test[:, selected_features]\n",
    "\n",
    "x_train[1][347]\n",
    "# x_train_selected[1][0]"
   ]
  },
  {
   "cell_type": "code",
   "execution_count": 27,
   "metadata": {},
   "outputs": [
    {
     "name": "stdout",
     "output_type": "stream",
     "text": [
      "k=1, accuracy=78.89%\n",
      "k=5, accuracy=75.56%\n",
      "k=10, accuracy=73.33%\n",
      "k=20, accuracy=72.22%\n",
      "k=30, accuracy=69.44%\n"
     ]
    }
   ],
   "source": [
    "kVals = [1, 5, 10, 20, 30]\n",
    "accuracies = []\n",
    "\n",
    "for k in kVals:\n",
    "    model = KNeighborsClassifier(n_neighbors=k)\n",
    "    model.fit(x_train_selected, y_train)\n",
    "    score = model.score(x_test_selected, y_test)\n",
    "    print(f\"k={k}, accuracy={score * 100:.2f}%\")\n",
    "    accuracies.append(score)"
   ]
  },
  {
   "cell_type": "code",
   "execution_count": 28,
   "metadata": {},
   "outputs": [
    {
     "name": "stdout",
     "output_type": "stream",
     "text": [
      "k=5, accuracy=19.44%\n",
      "k=10, accuracy=30.56%\n",
      "k=20, accuracy=44.44%\n",
      "k=30, accuracy=37.22%\n",
      "k=50, accuracy=38.33%\n",
      "k=100, accuracy=31.67%\n"
     ]
    }
   ],
   "source": [
    "kVals = [5,10,20,30,50,100]\n",
    "for k in kVals:\n",
    "    count = 0\n",
    "    for i in range(len(x_test_selected)):\n",
    "        x = x_test_selected[i]\n",
    "\n",
    "        distance_matrix = np.argsort(abs(x - x_train_selected), axis=0)\n",
    "        k_neighbor_labels = np.array([])\n",
    "        k_star = k\n",
    "        for l in range(len(x)):\n",
    "            if k_star <= 0: break\n",
    "            # print(l)\n",
    "            # print('...')\n",
    "            # print(distance_matrix[:, l][:k_star])\n",
    "            distances_along_axis = np.array(distance_matrix[:,l][:k_star])\n",
    "\n",
    "            k_neighbor_labels = np.concatenate([k_neighbor_labels,distances_along_axis])\n",
    "            k_star -= 1\n",
    "\n",
    "\n",
    "        # k_neighbors_indices = np.argsort(distances)[:k]\n",
    "        # k_neighbor_labels = [y_train[i] for i in k_neighbors_indices]\n",
    "        \n",
    "        # Return the most common class label\n",
    "        # print(k_neighbor_labels)\n",
    "        \n",
    "        labels = y_train[np.array(k_neighbor_labels).flatten().astype(int)]\n",
    "\n",
    "        most_common = np.bincount(labels).argmax()\n",
    "        if most_common == y_test[i]:\n",
    "            count += 1\n",
    "    score = count / len(x_test_selected)\n",
    "    print(\"k=%d, accuracy=%.2f%%\" % (k, score * 100))"
   ]
  },
  {
   "cell_type": "code",
   "execution_count": 44,
   "metadata": {},
   "outputs": [
    {
     "name": "stdout",
     "output_type": "stream",
     "text": [
      "k=5, accuracy=5.56%\n",
      "k=10, accuracy=5.56%\n",
      "k=20, accuracy=5.56%\n",
      "k=30, accuracy=5.56%\n",
      "k=50, accuracy=5.56%\n",
      "k=100, accuracy=5.56%\n",
      "k=120, accuracy=5.56%\n",
      "k=150, accuracy=5.56%\n",
      "k=180, accuracy=5.56%\n",
      "k=200, accuracy=5.56%\n"
     ]
    }
   ],
   "source": [
    "covariance_matrix = np.cov(x_train, rowvar=False)\n",
    "num_top_features = 20\n",
    "top_features_indices = np.argsort(-np.abs(covariance_matrix), axis=1)[:, 1:num_top_features + 1]\n",
    "\n",
    "kVals = [5,10,20,30,50,100, 120, 150, 180, 200]\n",
    "for k in kVals:\n",
    "    count = 0\n",
    "    for i in range(len(x_test)):\n",
    "        x = x_test[i]\n",
    "        k_neighbor_labels = np.array([])\n",
    "        k_star = k\n",
    "        for l in selected_features:\n",
    "            # distances = [np.linalg.norm(x - data_point) for data_point in x_train]\n",
    "            # imp_feature_neighbours = top_features_indices[l] # THIS IS FOR COVARIANCE\n",
    "            imp_feature_neighbours = np.array([l, l+1, l+27, l+28, l+29, l-1, l-27, l-28, l-29]) # this is for neighbour pixesl\n",
    "            mask = imp_feature_neighbours <= 783\n",
    "            imp_feature_neighbours = imp_feature_neighbours[mask]\n",
    "            distances = np.linalg.norm(x[imp_feature_neighbours] - x_train[:,imp_feature_neighbours], axis=1)\n",
    "            distances_along_axis = np.argsort(distances)[:k_star]\n",
    "            k_neighbor_labels = np.concatenate([k_neighbor_labels,distances_along_axis])\n",
    "            k_star = (k_star // 2) - 1\n",
    "        \n",
    "        labels = y_train[np.array(k_neighbor_labels).flatten().astype(int)]\n",
    "\n",
    "        most_common = np.bincount(labels).argmax()\n",
    "        if most_common == y_test[i]:\n",
    "            count += 1\n",
    "    score = count / len(x_test_selected)\n",
    "    print(\"k=%d, accuracy=%.2f%%\" % (k, score * 100))"
   ]
  },
  {
   "cell_type": "markdown",
   "metadata": {},
   "source": [
    "Before k = 100, we are not even looking at all the features, it just bad. you should look at a good number of pixels if you want reasonable results, its not crazy for the values to be bad underneeth, how could you conclude without looking at that many pixels. So this is not actualy our 'k' its a slightly different hyperperameter"
   ]
  },
  {
   "cell_type": "code",
   "execution_count": 10,
   "metadata": {},
   "outputs": [],
   "source": [
    "covariance_matrix = np.cov(x_train, rowvar=False)\n",
    "num_top_features = 5\n",
    "top_features_indices = np.argsort(-np.abs(covariance_matrix), axis=1)[:, 1:num_top_features + 1]"
   ]
  },
  {
   "cell_type": "code",
   "execution_count": 14,
   "metadata": {},
   "outputs": [
    {
     "data": {
      "text/plain": [
       "array([400, 345, 373, 344, 317], dtype=int64)"
      ]
     },
     "execution_count": 14,
     "metadata": {},
     "output_type": "execute_result"
    }
   ],
   "source": [
    "top_features_indices[372]"
   ]
  },
  {
   "cell_type": "code",
   "execution_count": 48,
   "metadata": {},
   "outputs": [
    {
     "data": {
      "text/plain": [
       "array([6731.7515, 4297.405 , 2842.059 , 6553.6353, 6194.0645],\n",
       "      dtype=float32)"
      ]
     },
     "execution_count": 48,
     "metadata": {},
     "output_type": "execute_result"
    }
   ],
   "source": []
  }
 ],
 "metadata": {
  "kernelspec": {
   "display_name": "Python 3",
   "language": "python",
   "name": "python3"
  },
  "language_info": {
   "codemirror_mode": {
    "name": "ipython",
    "version": 3
   },
   "file_extension": ".py",
   "mimetype": "text/x-python",
   "name": "python",
   "nbconvert_exporter": "python",
   "pygments_lexer": "ipython3",
   "version": "3.10.1"
  }
 },
 "nbformat": 4,
 "nbformat_minor": 2
}
