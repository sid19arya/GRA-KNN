{
 "cells": [
  {
   "cell_type": "code",
   "execution_count": 1,
   "metadata": {},
   "outputs": [
    {
     "name": "stdout",
     "output_type": "stream",
     "text": [
      "WARNING:tensorflow:From c:\\Users\\aryas\\AppData\\Local\\Programs\\Python\\Python310\\lib\\site-packages\\keras\\src\\losses.py:2976: The name tf.losses.sparse_softmax_cross_entropy is deprecated. Please use tf.compat.v1.losses.sparse_softmax_cross_entropy instead.\n",
      "\n"
     ]
    }
   ],
   "source": [
    "import matplotlib.pyplot as plt\n",
    "import tensorflow as tf\n",
    "from sklearn.neighbors import KNeighborsClassifier\n",
    "from sklearn.preprocessing import StandardScaler\n",
    "from sklearn.decomposition import PCA\n",
    "import numpy as np\n",
    "from sklearn.model_selection import train_test_split\n",
    "import cv2"
   ]
  },
  {
   "cell_type": "code",
   "execution_count": 14,
   "metadata": {},
   "outputs": [],
   "source": [
    "mnist = tf.keras.datasets.mnist\n",
    "\n",
    "(x_train, y_train), (x_test, y_test) = mnist.load_data()\n",
    "# (x_train, y_train), (x_test, y_test) = tf.keras.datasets.fashion_mnist.load_data()\n",
    "x_train = x_train.astype('uint8')   \n",
    "x_test = x_test.astype('uint8')\n",
    "\n",
    "x_train.shape\n",
    "\n",
    "x_train = x_train[:10000]\n",
    "x_test = x_test[:10000]\n",
    "y_train = y_train[:10000]\n",
    "y_test = y_test[:10000]"
   ]
  },
  {
   "cell_type": "code",
   "execution_count": 15,
   "metadata": {},
   "outputs": [],
   "source": [
    "x_train = x_train.reshape(-1, 28*28)\n",
    "x_test = x_test.reshape(-1, 28*28)\n",
    "x_train = x_train.astype('float32')   \n",
    "x_test = x_test.astype('float32')"
   ]
  },
  {
   "cell_type": "code",
   "execution_count": 16,
   "metadata": {},
   "outputs": [
    {
     "name": "stdout",
     "output_type": "stream",
     "text": [
      "k=1, accuracy=94.63%\n",
      "k=5, accuracy=94.42%\n",
      "k=10, accuracy=94.11%\n"
     ]
    }
   ],
   "source": [
    "kVals = [1,5,10]\n",
    "accuracies = []\n",
    "for k in kVals:\n",
    "    # train the classifier with the current value of `k`\n",
    "    model = KNeighborsClassifier(n_neighbors=k)\n",
    "\n",
    "    model.fit(x_train, y_train)\n",
    "\n",
    "    # evaluate the model and print the accuracies list\n",
    "    score = model.score(x_test, y_test)\n",
    "    print(\"k=%d, accuracy=%.2f%%\" % (k, score * 100))\n",
    "    accuracies.append(score)"
   ]
  },
  {
   "cell_type": "code",
   "execution_count": 17,
   "metadata": {},
   "outputs": [
    {
     "ename": "KeyboardInterrupt",
     "evalue": "",
     "output_type": "error",
     "traceback": [
      "\u001b[1;31m---------------------------------------------------------------------------\u001b[0m",
      "\u001b[1;31mKeyboardInterrupt\u001b[0m                         Traceback (most recent call last)",
      "\u001b[1;32mc:\\Users\\aryas\\Desktop\\ThirdYear\\CSC311\\GRA-KNN\\GRA-KNN\\src\\archive\\main.ipynb Cell 5\u001b[0m line \u001b[0;36m8\n\u001b[0;32m      <a href='vscode-notebook-cell:/c%3A/Users/aryas/Desktop/ThirdYear/CSC311/GRA-KNN/GRA-KNN/src/archive/main.ipynb#W4sZmlsZQ%3D%3D?line=4'>5</a>\u001b[0m \u001b[39mfor\u001b[39;00m i \u001b[39min\u001b[39;00m \u001b[39mrange\u001b[39m(\u001b[39mlen\u001b[39m(x_test)):\n\u001b[0;32m      <a href='vscode-notebook-cell:/c%3A/Users/aryas/Desktop/ThirdYear/CSC311/GRA-KNN/GRA-KNN/src/archive/main.ipynb#W4sZmlsZQ%3D%3D?line=5'>6</a>\u001b[0m     x \u001b[39m=\u001b[39m x_test[i]\n\u001b[1;32m----> <a href='vscode-notebook-cell:/c%3A/Users/aryas/Desktop/ThirdYear/CSC311/GRA-KNN/GRA-KNN/src/archive/main.ipynb#W4sZmlsZQ%3D%3D?line=7'>8</a>\u001b[0m     distances \u001b[39m=\u001b[39m [np\u001b[39m.\u001b[39mlinalg\u001b[39m.\u001b[39mnorm(x \u001b[39m-\u001b[39m data_point) \u001b[39mfor\u001b[39;00m data_point \u001b[39min\u001b[39;00m x_train]\n\u001b[0;32m     <a href='vscode-notebook-cell:/c%3A/Users/aryas/Desktop/ThirdYear/CSC311/GRA-KNN/GRA-KNN/src/archive/main.ipynb#W4sZmlsZQ%3D%3D?line=9'>10</a>\u001b[0m     k_neighbors_indices \u001b[39m=\u001b[39m np\u001b[39m.\u001b[39margsort(distances)[:k]\n\u001b[0;32m     <a href='vscode-notebook-cell:/c%3A/Users/aryas/Desktop/ThirdYear/CSC311/GRA-KNN/GRA-KNN/src/archive/main.ipynb#W4sZmlsZQ%3D%3D?line=10'>11</a>\u001b[0m     k_neighbor_labels \u001b[39m=\u001b[39m [y_train[i] \u001b[39mfor\u001b[39;00m i \u001b[39min\u001b[39;00m k_neighbors_indices]\n",
      "\u001b[1;32mc:\\Users\\aryas\\Desktop\\ThirdYear\\CSC311\\GRA-KNN\\GRA-KNN\\src\\archive\\main.ipynb Cell 5\u001b[0m line \u001b[0;36m8\n\u001b[0;32m      <a href='vscode-notebook-cell:/c%3A/Users/aryas/Desktop/ThirdYear/CSC311/GRA-KNN/GRA-KNN/src/archive/main.ipynb#W4sZmlsZQ%3D%3D?line=4'>5</a>\u001b[0m \u001b[39mfor\u001b[39;00m i \u001b[39min\u001b[39;00m \u001b[39mrange\u001b[39m(\u001b[39mlen\u001b[39m(x_test)):\n\u001b[0;32m      <a href='vscode-notebook-cell:/c%3A/Users/aryas/Desktop/ThirdYear/CSC311/GRA-KNN/GRA-KNN/src/archive/main.ipynb#W4sZmlsZQ%3D%3D?line=5'>6</a>\u001b[0m     x \u001b[39m=\u001b[39m x_test[i]\n\u001b[1;32m----> <a href='vscode-notebook-cell:/c%3A/Users/aryas/Desktop/ThirdYear/CSC311/GRA-KNN/GRA-KNN/src/archive/main.ipynb#W4sZmlsZQ%3D%3D?line=7'>8</a>\u001b[0m     distances \u001b[39m=\u001b[39m [np\u001b[39m.\u001b[39;49mlinalg\u001b[39m.\u001b[39;49mnorm(x \u001b[39m-\u001b[39;49m data_point) \u001b[39mfor\u001b[39;00m data_point \u001b[39min\u001b[39;00m x_train]\n\u001b[0;32m     <a href='vscode-notebook-cell:/c%3A/Users/aryas/Desktop/ThirdYear/CSC311/GRA-KNN/GRA-KNN/src/archive/main.ipynb#W4sZmlsZQ%3D%3D?line=9'>10</a>\u001b[0m     k_neighbors_indices \u001b[39m=\u001b[39m np\u001b[39m.\u001b[39margsort(distances)[:k]\n\u001b[0;32m     <a href='vscode-notebook-cell:/c%3A/Users/aryas/Desktop/ThirdYear/CSC311/GRA-KNN/GRA-KNN/src/archive/main.ipynb#W4sZmlsZQ%3D%3D?line=10'>11</a>\u001b[0m     k_neighbor_labels \u001b[39m=\u001b[39m [y_train[i] \u001b[39mfor\u001b[39;00m i \u001b[39min\u001b[39;00m k_neighbors_indices]\n",
      "File \u001b[1;32m<__array_function__ internals>:180\u001b[0m, in \u001b[0;36mnorm\u001b[1;34m(*args, **kwargs)\u001b[0m\n",
      "File \u001b[1;32mc:\\Users\\aryas\\AppData\\Local\\Programs\\Python\\Python310\\lib\\site-packages\\numpy\\linalg\\linalg.py:2338\u001b[0m, in \u001b[0;36m_norm_dispatcher\u001b[1;34m(x, ord, axis, keepdims)\u001b[0m\n\u001b[0;32m   2334\u001b[0m     result \u001b[39m=\u001b[39m op(svd(y, compute_uv\u001b[39m=\u001b[39m\u001b[39mFalse\u001b[39;00m), axis\u001b[39m=\u001b[39m\u001b[39m-\u001b[39m\u001b[39m1\u001b[39m)\n\u001b[0;32m   2335\u001b[0m     \u001b[39mreturn\u001b[39;00m result\n\u001b[1;32m-> 2338\u001b[0m \u001b[39mdef\u001b[39;00m \u001b[39m_norm_dispatcher\u001b[39m(x, \u001b[39mord\u001b[39m\u001b[39m=\u001b[39m\u001b[39mNone\u001b[39;00m, axis\u001b[39m=\u001b[39m\u001b[39mNone\u001b[39;00m, keepdims\u001b[39m=\u001b[39m\u001b[39mNone\u001b[39;00m):\n\u001b[0;32m   2339\u001b[0m     \u001b[39mreturn\u001b[39;00m (x,)\n\u001b[0;32m   2342\u001b[0m \u001b[39m@array_function_dispatch\u001b[39m(_norm_dispatcher)\n\u001b[0;32m   2343\u001b[0m \u001b[39mdef\u001b[39;00m \u001b[39mnorm\u001b[39m(x, \u001b[39mord\u001b[39m\u001b[39m=\u001b[39m\u001b[39mNone\u001b[39;00m, axis\u001b[39m=\u001b[39m\u001b[39mNone\u001b[39;00m, keepdims\u001b[39m=\u001b[39m\u001b[39mFalse\u001b[39;00m):\n",
      "\u001b[1;31mKeyboardInterrupt\u001b[0m: "
     ]
    }
   ],
   "source": [
    "kVals = [1,5,10]\n",
    "\n",
    "for k in kVals:\n",
    "    count = 0\n",
    "    for i in range(len(x_test)):\n",
    "        x = x_test[i]\n",
    "        \n",
    "        distances = [np.linalg.norm(x - data_point) for data_point in x_train]\n",
    "\n",
    "        k_neighbors_indices = np.argsort(distances)[:k]\n",
    "        k_neighbor_labels = [y_train[i] for i in k_neighbors_indices]\n",
    "        \n",
    "        # Return the most common class label\n",
    "        most_common = np.bincount(k_neighbor_labels).argmax()\n",
    "        if most_common == y_test[i]:\n",
    "            count += 1\n",
    "    score = count / len(x_test)\n",
    "    print(\"k=%d, accuracy=%.2f%%\" % (k, score * 100))\n",
    "\n"
   ]
  },
  {
   "cell_type": "code",
   "execution_count": 6,
   "metadata": {},
   "outputs": [],
   "source": [
    "from sklearn.tree import DecisionTreeClassifier"
   ]
  },
  {
   "cell_type": "code",
   "execution_count": 18,
   "metadata": {},
   "outputs": [
    {
     "data": {
      "text/plain": [
       "489"
      ]
     },
     "execution_count": 18,
     "metadata": {},
     "output_type": "execute_result"
    }
   ],
   "source": [
    "# Train a Decision Tree on the data (Decision tree uses IG for the splits)\n",
    "tree = DecisionTreeClassifier(random_state=0)\n",
    "tree.fit(x_train, y_train)\n",
    "importances = tree.feature_importances_\n",
    "indices = np.argsort(importances)[::-1]\n",
    "indices[0]"
   ]
  },
  {
   "cell_type": "code",
   "execution_count": 19,
   "metadata": {},
   "outputs": [
    {
     "name": "stdout",
     "output_type": "stream",
     "text": [
      "[489 155 350 435 239 432 656 486 347 539 522 381 290 351 295 570 300 296\n",
      " 515 344 541 183 210 377 490 576 544 378 297 658 271 182 572  96 580 438\n",
      " 354 345 516 318 407 213 625 157  99 488 220 319 437 431 190 654 353 436\n",
      " 462 429 215 324 186 316 410 513 349 328 382 380 373 214 403 543 265 321\n",
      " 371 400 568 440 266 527 602 269 246 545 519 657 293 404 100 498 291 329\n",
      " 302 624 128 428 103 212 320 104 427 187]\n"
     ]
    },
    {
     "data": {
      "text/plain": [
       "71.0"
      ]
     },
     "execution_count": 19,
     "metadata": {},
     "output_type": "execute_result"
    }
   ],
   "source": [
    "N = 100  # Change this to select number of features based on IG\n",
    "selected_features = indices[:N]\n",
    "print(selected_features)\n",
    "# Apply the selection to training and test data\n",
    "x_train_selected = x_train[:, selected_features]\n",
    "x_test_selected = x_test[:, selected_features]\n",
    "\n",
    "x_train[1][347]\n",
    "# x_train_selected[1][0]"
   ]
  },
  {
   "cell_type": "code",
   "execution_count": 20,
   "metadata": {},
   "outputs": [
    {
     "name": "stdout",
     "output_type": "stream",
     "text": [
      "k=1, accuracy=93.48%\n",
      "k=5, accuracy=93.45%\n",
      "k=10, accuracy=92.54%\n",
      "k=20, accuracy=91.55%\n",
      "k=30, accuracy=90.94%\n"
     ]
    }
   ],
   "source": [
    "kVals = [1, 5, 10, 20, 30]\n",
    "accuracies = []\n",
    "\n",
    "for k in kVals:\n",
    "    model = KNeighborsClassifier(n_neighbors=k)\n",
    "    model.fit(x_train_selected, y_train)\n",
    "    score = model.score(x_test_selected, y_test)\n",
    "    print(f\"k={k}, accuracy={score * 100:.2f}%\")\n",
    "    accuracies.append(score)"
   ]
  },
  {
   "cell_type": "code",
   "execution_count": 21,
   "metadata": {},
   "outputs": [
    {
     "name": "stdout",
     "output_type": "stream",
     "text": [
      "k=5, accuracy=25.71%\n"
     ]
    }
   ],
   "source": [
    "kVals = [5,10,20,30,50,100]\n",
    "for k in kVals:\n",
    "    count = 0\n",
    "    for i in range(len(x_test_selected)):\n",
    "        x = x_test_selected[i]\n",
    "\n",
    "        distance_matrix = np.argsort(abs(x - x_train_selected), axis=0)\n",
    "        k_neighbor_labels = np.array([])\n",
    "        k_star = k\n",
    "        for l in range(len(x)):\n",
    "            if k_star <= 0: break\n",
    "            # print(l)\n",
    "            # print('...')\n",
    "            # print(distance_matrix[:, l][:k_star])\n",
    "            distances_along_axis = np.array(distance_matrix[:,l][:k_star])\n",
    "\n",
    "            k_neighbor_labels = np.concatenate([k_neighbor_labels,distances_along_axis])\n",
    "            k_star -= 1\n",
    "\n",
    "\n",
    "        # k_neighbors_indices = np.argsort(distances)[:k]\n",
    "        # k_neighbor_labels = [y_train[i] for i in k_neighbors_indices]\n",
    "        \n",
    "        # Return the most common class label\n",
    "        # print(k_neighbor_labels)\n",
    "        \n",
    "        labels = y_train[np.array(k_neighbor_labels).flatten().astype(int)]\n",
    "\n",
    "        most_common = np.bincount(labels).argmax()\n",
    "        if most_common == y_test[i]:\n",
    "            count += 1\n",
    "    score = count / len(x_test_selected)\n",
    "    print(\"k=%d, accuracy=%.2f%%\" % (k, score * 100))"
   ]
  },
  {
   "cell_type": "code",
   "execution_count": null,
   "metadata": {},
   "outputs": [],
   "source": []
  },
  {
   "cell_type": "code",
   "execution_count": 133,
   "metadata": {},
   "outputs": [
    {
     "data": {
      "text/plain": [
       "[array([  0, 338, 337, 336, 335], dtype=int64),\n",
       " array([249, 340, 338, 337], dtype=int64),\n",
       " array([  0, 288, 287], dtype=int64),\n",
       " array([  0, 247], dtype=int64)]"
      ]
     },
     "execution_count": 133,
     "metadata": {},
     "output_type": "execute_result"
    }
   ],
   "source": [
    "k_neighbor_labels"
   ]
  },
  {
   "cell_type": "code",
   "execution_count": 13,
   "metadata": {},
   "outputs": [
    {
     "data": {
      "text/plain": [
       "array([2, 3])"
      ]
     },
     "execution_count": 13,
     "metadata": {},
     "output_type": "execute_result"
    }
   ],
   "source": [
    "a = np.array([1,2,3,4])\n",
    "a[np.array([1,2])]"
   ]
  },
  {
   "cell_type": "code",
   "execution_count": 88,
   "metadata": {},
   "outputs": [
    {
     "name": "stdout",
     "output_type": "stream",
     "text": [
      "[[249   0   0 ...  20 267   0]\n",
      " [340 288 247 ...  81 126 338]\n",
      " [338 287 419 ... 100 127 337]\n",
      " ...\n",
      " [ 66 413 393 ... 375  96 474]\n",
      " [376   9 415 ... 402 324 469]\n",
      " [143  37 452 ... 499 137  47]]\n",
      "[[2 1 2]\n",
      " [0 0 0]\n",
      " [1 2 1]]\n"
     ]
    },
    {
     "data": {
      "text/plain": [
       "array([1, 0, 2], dtype=int64)"
      ]
     },
     "execution_count": 88,
     "metadata": {},
     "output_type": "execute_result"
    }
   ],
   "source": [
    "\n",
    "\n",
    "\n",
    "\n",
    "\n",
    "\n",
    "print(np.argsort(abs(x_test_selected[0] - x_train_selected), axis=0))\n",
    "abs(x_test_selected[0] - x_train_selected)\n",
    "\n",
    "\n",
    "a = [\n",
    "     [1.,4.,2.],\n",
    "     [2.,0.,9.],\n",
    "     [0.,9.,1.]\n",
    "    ]\n",
    "# np.argsort(a, axis=0)\n",
    "print(np.argsort(a, axis=0))\n",
    "np.argsort(a, axis=0)[:,1]\n",
    "# a = [1,4,7,8,9]\n",
    "# a[2:1]"
   ]
  },
  {
   "cell_type": "code",
   "execution_count": 11,
   "metadata": {},
   "outputs": [],
   "source": [
    "for k in kVals:\n",
    "    # Calculate distances using vectorized operations\n",
    "    distances = np.linalg.norm(x_test[:, np.newaxis, :] - x_train, axis=2)\n",
    "    \n",
    "    # Get indices of k-nearest training data points\n",
    "    k_neighbors_indices = np.argsort(distances)[:, :k]\n",
    "    \n",
    "    # Get the labels of the k-nearest training data points\n",
    "    k_neighbor_labels = y_train[k_neighbors_indices]\n",
    "    \n",
    "    # Return the most common class label along each row\n",
    "    predictions = np.apply_along_axis(lambda x: np.bincount(x).argmax(), axis=1, arr=k_neighbor_labels)"
   ]
  },
  {
   "cell_type": "code",
   "execution_count": 12,
   "metadata": {},
   "outputs": [
    {
     "data": {
      "text/plain": [
       "array([7, 2, 1, 0, 4, 1, 4, 9, 4, 7, 0, 6, 9, 0, 1, 5, 9, 7, 3, 4, 9, 6,\n",
       "       1, 5, 4, 0, 7, 4, 0, 1, 3, 1, 3, 4, 7, 2, 7, 1, 1, 1, 1, 7, 4, 1,\n",
       "       1, 5, 1, 1, 4, 4, 6, 3, 4, 1, 2, 0, 4, 1, 9, 1, 7, 8, 9, 9, 7, 9,\n",
       "       1, 4, 3, 0, 7, 0, 2, 7, 1, 7, 3, 7, 9, 7, 9, 6, 2, 9, 1, 4, 7, 3,\n",
       "       6, 1, 3, 6, 9, 3, 1, 4, 1, 1, 6, 9, 4, 0, 3, 4, 9, 9, 2, 1, 9, 4,\n",
       "       8, 1, 1, 9, 7, 9, 9, 4, 9, 7, 3, 4, 7, 6, 9, 9, 0, 5, 8, 5, 6, 6,\n",
       "       5, 7, 8, 1, 0, 1, 6, 4, 6, 7, 3, 1, 7, 1, 9, 2, 0, 1, 9, 9, 4, 5,\n",
       "       1, 5, 6, 0, 3, 1, 4, 6, 5, 4, 6, 5, 4, 5, 1, 9, 9, 7, 3, 3, 2, 1,\n",
       "       1, 9, 1, 8, 1, 8, 1, 0, 8, 9, 2, 5, 0, 1, 1, 1, 0, 9, 0, 1, 1, 6,\n",
       "       4, 2, 3, 6, 1, 1, 1, 1, 9, 3, 2, 9, 4, 9, 4, 1, 9, 0, 3, 5, 7, 5,\n",
       "       7, 0, 2, 7, 1, 2, 8, 4, 1, 7, 5, 1, 8, 7, 9, 9, 2, 1, 4, 1, 5, 9,\n",
       "       9, 7, 1, 1, 0, 6, 4, 1, 9, 1, 9, 5, 7, 7, 1, 1, 2, 0, 8, 1, 7, 7,\n",
       "       9, 1, 0, 1, 5, 0, 3, 0, 1, 9, 9, 4, 1, 8, 2, 1, 1, 9, 7, 1, 9, 2,\n",
       "       6, 4, 1, 5, 4, 3, 9, 2, 0, 9, 0, 0, 2, 8, 1, 7, 1, 1, 9, 0, 1, 7,\n",
       "       4, 1, 3, 0, 0, 3, 1, 9, 6, 5, 0, 5, 1, 1, 9, 3, 0, 9, 1, 0, 7, 1,\n",
       "       1, 1, 1, 3, 3, 3, 9, 7, 0, 6, 5, 4, 1, 3, 8, 1, 0, 5, 1, 9, 1, 5,\n",
       "       0, 6, 1, 8, 5, 1, 4, 9, 4, 6, 7, 1, 5, 0, 1, 5, 6, 3, 7, 1, 0, 1,\n",
       "       8, 5, 9, 1, 1, 4, 0, 7, 3, 7, 6, 1, 6, 1, 1, 9, 2, 8, 6, 1, 9, 5,\n",
       "       1, 5, 4, 4, 2, 8, 5, 7, 1, 4, 0, 0, 3, 1, 7, 7, 3, 7, 9, 7, 1, 9,\n",
       "       2, 1, 4, 2, 9, 2, 0, 9, 9, 1, 4, 1, 1, 1, 4, 4, 9, 7, 9, 3, 7, 6,\n",
       "       0, 0, 3, 6, 8, 5, 6, 9, 9, 5, 3, 3, 1, 3, 9, 1, 1, 6, 9, 0, 9, 6,\n",
       "       6, 6, 7, 8, 8, 7, 7, 5, 8, 9, 6, 1, 8, 4, 1, 1, 6, 3, 1, 9, 7, 1,\n",
       "       9, 0, 4, 9, 7, 1, 4, 5, 8, 3, 7, 0, 9, 9, 4, 1, 3, 9, 5, 2, 1, 3,\n",
       "       1, 5, 6, 5, 7, 1, 1, 6, 6, 3, 4, 6, 5, 9, 1, 9, 9, 1, 1, 0, 3, 0,\n",
       "       1, 1, 9, 1, 9, 4, 6, 4, 1, 1, 1, 2, 5, 4, 1, 4, 4, 0, 0, 8, 3, 2,\n",
       "       7, 1, 0, 6, 7, 4, 4, 7, 9, 6, 9, 0, 9, 8, 0, 9, 1, 0, 6, 3, 5, 9,\n",
       "       9, 3, 3, 9, 3, 3, 8, 7, 8, 0, 1, 7, 1, 7, 0, 6, 5, 9, 3, 3, 0, 9,\n",
       "       6, 3, 8, 4, 9, 9, 6, 1, 6, 8, 9, 1, 3, 6, 0, 1, 6, 0, 6, 1, 1, 1,\n",
       "       9, 7, 5, 1, 0, 8, 4, 6, 1, 6, 7, 9, 9, 2, 9, 8, 2, 1, 4, 1, 7, 3,\n",
       "       7, 9, 1, 8, 5, 2, 0, 5, 1, 1, 3, 7, 6, 7, 1, 1, 0, 8, 0, 3, 4, 7,\n",
       "       4, 6, 9, 1, 8, 6, 9, 1, 9, 1, 4, 4, 1, 9, 5, 1, 7, 3, 9, 7, 6, 9,\n",
       "       1, 1, 3, 8, 3, 3, 6, 9, 2, 3, 1, 8, 5, 1, 1, 4, 4, 3, 1, 0, 7, 7,\n",
       "       0, 7, 9, 9, 4, 8, 3, 5, 9, 0, 8, 2, 1, 6, 8, 4, 5, 0, 4, 0, 6, 1,\n",
       "       4, 3, 7, 6, 7, 2, 6, 9, 1, 1, 4, 6, 1, 5, 9, 1, 0, 6, 0, 1, 7, 3,\n",
       "       9, 1, 0, 3, 4, 3, 1, 1, 7, 4, 9, 9, 9, 8, 4, 0, 2, 4, 5, 1, 1, 6,\n",
       "       4, 9, 1, 9, 9, 2, 4, 1, 5, 9, 3, 8, 3, 1, 4, 3, 6, 8, 9, 4, 1, 9,\n",
       "       3, 8, 0, 1, 2, 1, 1, 2, 0, 3, 4, 4, 0, 8, 8, 3, 3, 1, 7, 3, 5, 7,\n",
       "       6, 3, 1, 6, 1, 3, 6, 0, 7, 2, 1, 7, 1, 4, 1, 4, 4, 1, 7, 9, 1, 1,\n",
       "       1, 1, 4, 5, 1, 7, 7, 4, 7, 0, 7, 3, 1, 3, 1, 0, 7, 7, 0, 3, 5, 3,\n",
       "       2, 7, 6, 6, 9, 2, 8, 3, 5, 1, 2, 8, 6, 0, 8, 7, 9, 2, 3, 2, 8, 8,\n",
       "       7, 9, 7, 1, 0, 6, 6, 3, 2, 1, 3, 1, 2, 9, 3, 0, 0, 5, 1, 8, 1, 4,\n",
       "       9, 6, 0, 2, 9, 1, 4, 7, 4, 7, 3, 4, 8, 1, 4, 7, 1, 1, 1, 2, 7, 3,\n",
       "       7, 3, 0, 3, 9, 1, 1, 4, 0, 3, 5, 7, 6, 6, 8, 0, 6, 7, 6, 5, 1, 2,\n",
       "       7, 9, 1, 1, 7, 9, 4, 4, 9, 6, 1, 5, 3, 1, 1, 8, 9, 1, 1, 0, 9, 1,\n",
       "       9, 4, 5, 4, 0, 6, 2, 3, 3, 1, 3, 1, 2, 0, 3, 8, 1, 2, 6, 7, 1, 6,\n",
       "       1, 3, 9, 0, 1, 2, 1, 0, 9, 9], dtype=int64)"
      ]
     },
     "execution_count": 12,
     "metadata": {},
     "output_type": "execute_result"
    }
   ],
   "source": [
    "predictions"
   ]
  }
 ],
 "metadata": {
  "kernelspec": {
   "display_name": "Python 3",
   "language": "python",
   "name": "python3"
  },
  "language_info": {
   "codemirror_mode": {
    "name": "ipython",
    "version": 3
   },
   "file_extension": ".py",
   "mimetype": "text/x-python",
   "name": "python",
   "nbconvert_exporter": "python",
   "pygments_lexer": "ipython3",
   "version": "3.10.1"
  }
 },
 "nbformat": 4,
 "nbformat_minor": 2
}
