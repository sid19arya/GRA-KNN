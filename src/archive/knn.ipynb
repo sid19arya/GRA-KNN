{
 "cells": [
  {
   "cell_type": "markdown",
   "metadata": {},
   "source": [
    "Source: https://github.com/PJY-609/MNIST-KNN/blob/master/KNN%2BMNIST.ipynb"
   ]
  },
  {
   "cell_type": "code",
   "execution_count": 182,
   "metadata": {},
   "outputs": [],
   "source": [
    "from sklearn import datasets"
   ]
  },
  {
   "cell_type": "code",
   "execution_count": 231,
   "metadata": {},
   "outputs": [],
   "source": [
    "import matplotlib.pyplot as plt\n",
    "import tensorflow as tf\n",
    "mnist = tf.keras.datasets.mnist\n",
    "\n",
    "(x_train, y_train), (x_test, y_test) = mnist.load_data()\n",
    "\n"
   ]
  },
  {
   "cell_type": "code",
   "execution_count": 233,
   "metadata": {},
   "outputs": [
    {
     "data": {
      "text/plain": [
       "<matplotlib.image.AxesImage at 0x204cadd4850>"
      ]
     },
     "execution_count": 233,
     "metadata": {},
     "output_type": "execute_result"
    },
    {
     "data": {
      "image/png": "[encoded data removed]",
      "text/plain": [
       "<Figure size 640x480 with 1 Axes>"
      ]
     },
     "metadata": {},
     "output_type": "display_data"
    }
   ],
   "source": [
    "# plt.imshow(x_train[6], cmap='gray_r')\n",
    "plt.imshow(x_test[20].reshape((28, 28)), cmap='gray_r')"
   ]
  },
  {
   "cell_type": "code",
   "execution_count": 167,
   "metadata": {},
   "outputs": [
    {
     "data": {
      "text/plain": [
       "array([[ 0.,  0.,  5., ...,  0.,  0.,  0.],\n",
       "       [ 0.,  0.,  0., ..., 10.,  0.,  0.],\n",
       "       [ 0.,  0.,  0., ..., 16.,  9.,  0.],\n",
       "       ...,\n",
       "       [ 0.,  0.,  1., ...,  6.,  0.,  0.],\n",
       "       [ 0.,  0.,  2., ..., 12.,  0.,  0.],\n",
       "       [ 0.,  0., 10., ..., 12.,  1.,  0.]])"
      ]
     },
     "execution_count": 167,
     "metadata": {},
     "output_type": "execute_result"
    }
   ],
   "source": [
    "# load the MNIST digits dataset\n",
    "mnist = datasets.load_digits()\n",
    "mnist.data"
   ]
  },
  {
   "cell_type": "code",
   "execution_count": 168,
   "metadata": {},
   "outputs": [
    {
     "name": "stdout",
     "output_type": "stream",
     "text": [
      "Shape of x_train: (60000, 28, 28)\n",
      "\n"
     ]
    }
   ],
   "source": [
    "# import tensorflow as tf\n",
    "\n",
    "# # Load the Fashion MNIST dataset\n",
    "# (x_train, y_train), (x_test, y_test) = tf.keras.datasets.fashion_mnist.load_data()\n",
    "\n",
    "# # Print the shape of the training data\n",
    "# print(\"Shape of x_train:\", x_train.shape)\n",
    "# print()"
   ]
  },
  {
   "cell_type": "code",
   "execution_count": 185,
   "metadata": {},
   "outputs": [
    {
     "name": "stdout",
     "output_type": "stream",
     "text": [
      "[[  0   0   0   0   0   0   0   0   0   0   0   0   0   0   0   0   0   0\n",
      "    0   0   0   0   0   0   0   0   0   0]\n",
      " [  0   0   0   0   0   0   0   0   0   0   0   0   0   0   0   0   0   0\n",
      "    0   0   0   0   0   0   0   0   0   0]\n",
      " [  0   0   0   0   0   0   0   0   0   0   0   0   0   0   0   0   0   0\n",
      "    0   0   0   0   0   0   0   0   0   0]\n",
      " [  0   0   0   0   0   0   0   0   0   0   0   0   0   0   0   0   0   0\n",
      "    0   0   0   0   0   0   0   0   0   0]\n",
      " [  0   0   0   0   0   0   0   0   0   0   0   0   0   0   0   0   0   0\n",
      "    0   0   0   0   0   0   0   0   0   0]\n",
      " [  0   0   0   0   0   0   0   0   0   0   0   0   3  18  18  18 126 136\n",
      "  175  26 166 255 247 127   0   0   0   0]\n",
      " [  0   0   0   0   0   0   0   0  30  36  94 154 170 253 253 253 253 253\n",
      "  225 172 253 242 195  64   0   0   0   0]\n",
      " [  0   0   0   0   0   0   0  49 238 253 253 253 253 253 253 253 253 251\n",
      "   93  82  82  56  39   0   0   0   0   0]\n",
      " [  0   0   0   0   0   0   0  18 219 253 253 253 253 253 198 182 247 241\n",
      "    0   0   0   0   0   0   0   0   0   0]\n",
      " [  0   0   0   0   0   0   0   0  80 156 107 253 253 205  11   0  43 154\n",
      "    0   0   0   0   0   0   0   0   0   0]\n",
      " [  0   0   0   0   0   0   0   0   0  14   1 154 253  90   0   0   0   0\n",
      "    0   0   0   0   0   0   0   0   0   0]\n",
      " [  0   0   0   0   0   0   0   0   0   0   0 139 253 190   2   0   0   0\n",
      "    0   0   0   0   0   0   0   0   0   0]\n",
      " [  0   0   0   0   0   0   0   0   0   0   0  11 190 253  70   0   0   0\n",
      "    0   0   0   0   0   0   0   0   0   0]\n",
      " [  0   0   0   0   0   0   0   0   0   0   0   0  35 241 225 160 108   1\n",
      "    0   0   0   0   0   0   0   0   0   0]\n",
      " [  0   0   0   0   0   0   0   0   0   0   0   0   0  81 240 253 253 119\n",
      "   25   0   0   0   0   0   0   0   0   0]\n",
      " [  0   0   0   0   0   0   0   0   0   0   0   0   0   0  45 186 253 253\n",
      "  150  27   0   0   0   0   0   0   0   0]\n",
      " [  0   0   0   0   0   0   0   0   0   0   0   0   0   0   0  16  93 252\n",
      "  253 187   0   0   0   0   0   0   0   0]\n",
      " [  0   0   0   0   0   0   0   0   0   0   0   0   0   0   0   0   0 249\n",
      "  253 249  64   0   0   0   0   0   0   0]\n",
      " [  0   0   0   0   0   0   0   0   0   0   0   0   0   0  46 130 183 253\n",
      "  253 207   2   0   0   0   0   0   0   0]\n",
      " [  0   0   0   0   0   0   0   0   0   0   0   0  39 148 229 253 253 253\n",
      "  250 182   0   0   0   0   0   0   0   0]\n",
      " [  0   0   0   0   0   0   0   0   0   0  24 114 221 253 253 253 253 201\n",
      "   78   0   0   0   0   0   0   0   0   0]\n",
      " [  0   0   0   0   0   0   0   0  23  66 213 253 253 253 253 198  81   2\n",
      "    0   0   0   0   0   0   0   0   0   0]\n",
      " [  0   0   0   0   0   0  18 171 219 253 253 253 253 195  80   9   0   0\n",
      "    0   0   0   0   0   0   0   0   0   0]\n",
      " [  0   0   0   0  55 172 226 253 253 253 253 244 133  11   0   0   0   0\n",
      "    0   0   0   0   0   0   0   0   0   0]\n",
      " [  0   0   0   0 136 253 253 253 212 135 132  16   0   0   0   0   0   0\n",
      "    0   0   0   0   0   0   0   0   0   0]\n",
      " [  0   0   0   0   0   0   0   0   0   0   0   0   0   0   0   0   0   0\n",
      "    0   0   0   0   0   0   0   0   0   0]\n",
      " [  0   0   0   0   0   0   0   0   0   0   0   0   0   0   0   0   0   0\n",
      "    0   0   0   0   0   0   0   0   0   0]\n",
      " [  0   0   0   0   0   0   0   0   0   0   0   0   0   0   0   0   0   0\n",
      "    0   0   0   0   0   0   0   0   0   0]]\n"
     ]
    }
   ],
   "source": [
    "print(x_train[0])"
   ]
  },
  {
   "cell_type": "code",
   "execution_count": 170,
   "metadata": {},
   "outputs": [],
   "source": [
    "from sklearn.model_selection import train_test_split\n",
    "import numpy as np\n",
    "# Training and testing split,\n",
    "# 75% for training and 25% for testing\n",
    "# (trainData, testData, trainLabels, testLabels) = train_test_split(np.array(mnist.data), mnist.target, test_size=0.25)\n",
    "\n",
    "# take 10% of the training data and use that for validation\n",
    "# (trainData, valData, trainLabels, valLabels) = train_test_split(trainData, trainLabels, test_size=0.1)"
   ]
  },
  {
   "cell_type": "code",
   "execution_count": null,
   "metadata": {},
   "outputs": [],
   "source": []
  },
  {
   "cell_type": "code",
   "execution_count": 234,
   "metadata": {},
   "outputs": [],
   "source": [
    "from sklearn.neighbors import KNeighborsClassifier\n",
    "kVals = [1,5,10,20, 30]\n",
    "accuracies = []\n",
    "x_train = x_train.reshape(-1, 28 * 28)\n",
    "x_test = x_test.reshape(-1, 28*28)\n",
    "# print(flattened_array.shape)\n",
    "# loop over kVals\n"
   ]
  },
  {
   "cell_type": "code",
   "execution_count": 247,
   "metadata": {},
   "outputs": [],
   "source": [
    "x_train = x_train.astype('float32')   \n",
    "x_test = x_test.astype('float32')"
   ]
  },
  {
   "cell_type": "code",
   "execution_count": 262,
   "metadata": {},
   "outputs": [],
   "source": [
    "from sklearn.preprocessing import StandardScaler\n",
    "\n",
    "train_scaler = StandardScaler()\n",
    "\n",
    "x_train = train_scaler.fit(x_train).transform(x_train)\n",
    "x_test = StandardScaler().fit_transform(x_test)\n",
    "\n"
   ]
  },
  {
   "cell_type": "code",
   "execution_count": 263,
   "metadata": {},
   "outputs": [
    {
     "name": "stdout",
     "output_type": "stream",
     "text": [
      "[ 0.00000000e+00  0.00000000e+00  0.00000000e+00  0.00000000e+00\n",
      "  0.00000000e+00  0.00000000e+00  0.00000000e+00  0.00000000e+00\n",
      "  0.00000000e+00  0.00000000e+00  0.00000000e+00  0.00000000e+00\n",
      " -4.41807788e-03 -5.75482007e-03 -4.08251677e-03 -4.08251723e-03\n",
      "  0.00000000e+00  0.00000000e+00  0.00000000e+00  0.00000000e+00\n",
      "  0.00000000e+00  0.00000000e+00  0.00000000e+00  0.00000000e+00\n",
      "  0.00000000e+00  0.00000000e+00  0.00000000e+00  0.00000000e+00\n",
      "  0.00000000e+00  0.00000000e+00  0.00000000e+00  0.00000000e+00\n",
      " -4.08251677e-03 -4.70968802e-03 -8.79934616e-03 -1.15905590e-02\n",
      " -1.47589790e-02 -1.92848537e-02 -2.46717967e-02 -2.90710256e-02\n",
      " -3.05926595e-02 -3.11640110e-02 -3.19628716e-02 -3.02025359e-02\n",
      " -3.13102193e-02 -2.83833966e-02 -2.31191907e-02 -1.91666260e-02\n",
      " -1.67723000e-02 -1.09963603e-02 -8.32486060e-03 -4.38069366e-03\n",
      "  0.00000000e+00  0.00000000e+00  0.00000000e+00  0.00000000e+00\n",
      "  0.00000000e+00  0.00000000e+00 -4.08251677e-03 -5.39534586e-03\n",
      " -8.52241181e-03 -1.19850365e-02 -1.76534783e-02 -2.77108997e-02\n",
      " -3.70200947e-02 -5.21512777e-02 -6.70362040e-02 -8.30170438e-02\n",
      " -9.93793011e-02 -1.15184121e-01 -1.29133254e-01 -1.38394684e-01\n",
      " -1.38883635e-01 -1.31843433e-01 -1.20429516e-01 -1.01890795e-01\n",
      " -7.86048993e-02 -5.69956116e-02 -3.96576822e-02 -2.37283856e-02\n",
      " -1.40883466e-02 -7.83084054e-03  0.00000000e+00  0.00000000e+00\n",
      "  0.00000000e+00  0.00000000e+00 -5.36837755e-03 -8.87060538e-03\n",
      " -1.40708173e-02 -2.21468080e-02 -3.51801366e-02 -5.50236814e-02\n",
      " -7.90961310e-02 -1.07649013e-01 -1.37169942e-01 -1.67105764e-01\n",
      " -1.96008757e-01 -2.24491119e-01 -2.48655990e-01 -2.62117982e-01\n",
      " -2.62596905e-01 -2.47855902e-01 -2.21947014e-01 -1.87211409e-01\n",
      " -1.47640124e-01 -1.08164370e-01 -7.68121108e-02 -4.70752977e-02\n",
      " -3.02019659e-02 -1.52412439e-02 -5.28371939e-03  0.00000000e+00\n",
      "  0.00000000e+00 -4.08251677e-03 -7.76342256e-03 -1.48932543e-02\n",
      " -2.39627492e-02 -5.03408983e-02 -7.87674636e-02 -1.16181545e-01\n",
      " -1.61247566e-01 -2.11961642e-01 -2.66898721e-01 -3.25678021e-01\n",
      " -3.90241563e-01 -4.52076375e-01 -4.99397993e-01 -5.23428321e-01\n",
      " -5.17618895e-01 -4.80902404e-01 -4.23079699e-01 -3.56740385e-01\n",
      " -2.83683658e-01 -2.16836661e-01 -1.58524379e-01 -1.08784586e-01\n",
      " -7.09225312e-02 -3.89534794e-02 -1.42523851e-02 -5.77049796e-03\n",
      "  0.00000000e+00  0.00000000e+00 -1.19017400e-02 -2.20501553e-02\n",
      " -5.18380739e-02 -9.06597003e-02 -1.39667109e-01 -1.97082117e-01\n",
      " -2.64384717e-01 -3.40730429e-01 -4.22535747e-01 -5.15408635e-01\n",
      " -5.84660351e-01 -5.41363060e-01 -6.26156747e-01 -6.69145048e-01\n",
      "  3.43637139e-01  5.31055987e-01  1.10236573e+00 -2.65802562e-01\n",
      "  1.71565962e+00  3.77344823e+00  4.93900204e+00  3.45006824e+00\n",
      " -1.31080121e-01 -7.48460367e-02 -3.19301300e-02 -8.20891839e-03\n",
      "  0.00000000e+00 -5.57015324e-03 -1.56619269e-02 -3.63656580e-02\n",
      " -7.90243074e-02 -1.33289084e-01 -1.99154407e-01 -2.75429696e-01\n",
      "  8.82421136e-02 -1.60018969e-02  4.42476511e-01  8.18775058e-01\n",
      "  7.49339521e-01  1.32200205e+00  1.19900227e+00  1.14748073e+00\n",
      "  1.16876769e+00  1.25693727e+00  1.17313564e+00  9.33441520e-01\n",
      "  2.13777184e+00  2.64653063e+00  2.81275272e+00  1.14339101e+00\n",
      " -1.72939703e-01 -1.04104236e-01 -4.83176224e-02 -1.47080189e-02\n",
      " -4.08251677e-03 -1.32310102e-02 -2.62438208e-02 -5.91585934e-02\n",
      " -1.13004856e-01 -1.78441525e-01 -2.58004814e-01  4.14936751e-01\n",
      "  2.55139995e+00  2.15784264e+00  1.76151121e+00  1.47855282e+00\n",
      "  1.28620374e+00  1.15934205e+00  1.08883059e+00  1.06792176e+00\n",
      "  1.08561218e+00  1.12333035e+00 -1.85138151e-01 -1.08110689e-01\n",
      "  1.20942183e-01  1.04310654e-01  1.53347805e-01 -2.87681282e-01\n",
      " -1.97007030e-01 -1.21228941e-01 -5.68086132e-02 -1.53906681e-02\n",
      " -5.02549298e-03 -1.73205193e-02 -4.30805385e-02 -8.52489024e-02\n",
      " -1.39458373e-01 -2.10883319e-01 -3.00017983e-01 -1.59588560e-01\n",
      "  1.95384085e+00  1.84773397e+00  1.51729631e+00  1.30892134e+00\n",
      "  1.20210624e+00  1.16376245e+00  6.74199760e-01  5.38435698e-01\n",
      "  1.12192714e+00  1.07058609e+00 -1.04378664e+00 -9.12978530e-01\n",
      " -7.39191294e-01 -5.71005464e-01 -4.23671007e-01 -2.98196197e-01\n",
      " -1.97686136e-01 -1.20683819e-01 -5.39356284e-02 -1.35055436e-02\n",
      " -5.90571249e-03 -2.11096667e-02 -5.29890358e-02 -9.30784941e-02\n",
      " -1.50398731e-01 -2.26191014e-01 -3.23645353e-01 -4.42131221e-01\n",
      "  2.70213753e-01  7.45930851e-01  7.23832920e-02  1.27771211e+00\n",
      "  1.27734542e+00  9.12254632e-01 -8.07963371e-01 -9.13935959e-01\n",
      " -5.60996652e-01  3.90063792e-01 -9.99486566e-01 -9.01508629e-01\n",
      " -7.36681521e-01 -5.67589402e-01 -4.20171887e-01 -2.90174603e-01\n",
      " -1.81482360e-01 -1.04939774e-01 -4.72131744e-02 -1.41308662e-02\n",
      " -5.77280531e-03 -2.26322766e-02 -5.28031737e-02 -9.22058076e-02\n",
      " -1.47451699e-01 -2.27284595e-01 -3.32428306e-01 -4.62696165e-01\n",
      " -6.19033515e-01 -6.52626514e-01 -8.99148226e-01  4.58886653e-01\n",
      "  1.47356892e+00  6.77134916e-02 -7.71412134e-01 -8.03560078e-01\n",
      " -8.73939276e-01 -9.51575458e-01 -9.62131023e-01 -8.63473296e-01\n",
      " -7.01324284e-01 -5.37396550e-01 -3.96771044e-01 -2.71222651e-01\n",
      " -1.59324467e-01 -8.12584087e-02 -3.69508676e-02 -1.18733998e-02\n",
      " -7.05517363e-03 -2.07711756e-02 -4.72035632e-02 -8.20038393e-02\n",
      " -1.37457281e-01 -2.25181952e-01 -3.38492393e-01 -4.82934982e-01\n",
      " -6.48288250e-01 -8.09805274e-01 -8.96460474e-01  4.05564666e-01\n",
      "  1.64634562e+00  1.16516316e+00 -7.21489012e-01 -8.02210510e-01\n",
      " -9.01262820e-01 -9.77722943e-01 -9.55547929e-01 -8.24902952e-01\n",
      " -6.55987859e-01 -4.99364197e-01 -3.69573325e-01 -2.58464396e-01\n",
      " -1.49695724e-01 -6.11113533e-02 -2.80115679e-02 -9.12510045e-03\n",
      " -5.30435145e-03 -1.62384007e-02 -3.63786146e-02 -6.85820132e-02\n",
      " -1.27368495e-01 -2.26143345e-01 -3.52202892e-01 -5.07583559e-01\n",
      " -6.79449677e-01 -8.28251064e-01 -8.88830006e-01 -7.40225136e-01\n",
      "  1.06068289e+00  1.68492913e+00 -1.77575678e-01 -9.17683482e-01\n",
      " -1.02909589e+00 -1.05827904e+00 -9.65674043e-01 -7.94476748e-01\n",
      " -6.16749346e-01 -4.70072895e-01 -3.55124414e-01 -2.55407542e-01\n",
      " -1.53824523e-01 -5.24542816e-02 -2.15058662e-02 -9.92198102e-03\n",
      " -4.08251677e-03 -1.09343855e-02 -2.55447980e-02 -5.70730828e-02\n",
      " -1.24662019e-01 -2.38498181e-01 -3.73258919e-01 -5.33136070e-01\n",
      " -7.02094138e-01 -8.37450087e-01 -8.80074263e-01 -8.41014266e-01\n",
      " -4.87694919e-01  1.32485783e+00  9.98375475e-01  3.22814286e-01\n",
      " -1.98337182e-01 -1.11994100e+00 -9.76070404e-01 -7.75195360e-01\n",
      " -5.94446599e-01 -4.60910261e-01 -3.55500549e-01 -2.63549179e-01\n",
      " -1.64503694e-01 -5.95130324e-02 -2.33686678e-02 -7.40432367e-03\n",
      " -4.08251677e-03 -7.98834581e-03 -1.82964522e-02 -5.13394363e-02\n",
      " -1.29346386e-01 -2.57521391e-01 -3.95011336e-01 -5.50421715e-01\n",
      " -7.07323074e-01 -8.26049864e-01 -8.67853105e-01 -8.60743761e-01\n",
      " -9.04035687e-01 -3.08572620e-01  9.64876890e-01  1.03583360e+00\n",
      "  1.05517268e+00 -8.08498263e-02 -7.38205671e-01 -7.63011277e-01\n",
      " -5.97027004e-01 -4.72019970e-01 -3.68370414e-01 -2.73325324e-01\n",
      " -1.73386633e-01 -6.89427182e-02 -2.46446580e-02 -6.98490208e-03\n",
      " -4.77028033e-03 -4.18942794e-03 -1.86482556e-02 -5.32721244e-02\n",
      " -1.40420511e-01 -2.77180612e-01 -4.12209004e-01 -5.54003417e-01\n",
      " -6.92005396e-01 -7.92583108e-01 -8.41940820e-01 -8.69766951e-01\n",
      " -9.58664358e-01 -1.09410262e+00 -8.05303693e-01  4.28897589e-01\n",
      "  1.08836293e+00  1.16827869e+00  4.42989469e-01 -4.93267357e-01\n",
      " -6.09787226e-01 -4.86753941e-01 -3.80896777e-01 -2.78298885e-01\n",
      " -1.75491557e-01 -7.70261437e-02 -2.96263043e-02 -9.11024027e-03\n",
      " -4.08251677e-03 -6.70727761e-03 -2.16014329e-02 -6.07076921e-02\n",
      " -1.57022417e-01 -2.97163159e-01 -4.22306806e-01 -5.45726717e-01\n",
      " -6.59100294e-01 -7.41250575e-01 -7.88379550e-01 -8.33967328e-01\n",
      " -9.19413388e-01 -1.02595556e+00 -1.12277555e+00 -1.00128627e+00\n",
      " -2.50181705e-01  1.26567435e+00  1.45264065e+00  1.05397975e+00\n",
      " -6.15621626e-01 -4.93079752e-01 -3.79874289e-01 -2.73517638e-01\n",
      " -1.73539117e-01 -8.40501487e-02 -3.41624394e-02 -8.93964712e-03\n",
      "  0.00000000e+00 -8.93208850e-03 -2.53977627e-02 -7.39001781e-02\n",
      " -1.77860051e-01 -3.13383430e-01 -4.29013044e-01 -5.35088956e-01\n",
      " -6.20781958e-01 -6.82689250e-01 -7.23470151e-01 -7.65559018e-01\n",
      " -8.25070381e-01 -9.19390261e-01 -1.00626016e+00 -1.03281510e+00\n",
      " -1.01067269e+00  1.31519949e+00  1.48115098e+00  1.64560187e+00\n",
      "  4.82880957e-02 -4.85156298e-01 -3.68041992e-01 -2.60781825e-01\n",
      " -1.68333754e-01 -8.85426328e-02 -3.59362327e-02 -1.07108131e-02\n",
      " -5.90596674e-03 -6.35211449e-03 -3.33202146e-02 -9.13048610e-02\n",
      " -1.99108034e-01 -3.27967405e-01 -4.38995391e-01 -5.34454107e-01\n",
      " -6.05947912e-01 -6.59405112e-01 -6.97848380e-01 -7.30422914e-01\n",
      " -7.81125665e-01 -8.71688604e-01 -5.44696391e-01  1.60415053e-01\n",
      "  6.50220871e-01  1.34279907e+00  1.46194005e+00  1.24594176e+00\n",
      " -5.73926508e-01 -4.63429123e-01 -3.48771155e-01 -2.45884761e-01\n",
      " -1.58200935e-01 -8.54379609e-02 -3.15579623e-02 -9.76041425e-03\n",
      " -4.08251723e-03 -1.12816626e-02 -3.97571027e-02 -1.03852332e-01\n",
      " -2.11980969e-01 -3.37477893e-01 -4.51701939e-01 -5.52131593e-01\n",
      " -6.31886482e-01 -6.93224370e-01 -7.38384902e-01 -7.70730793e-01\n",
      " -4.69506055e-01  4.22382981e-01  1.04567039e+00  1.21745431e+00\n",
      "  1.23935676e+00  1.31032801e+00  1.44686103e+00  1.07419014e+00\n",
      " -5.55385649e-01 -4.27074611e-01 -3.16810489e-01 -2.20685810e-01\n",
      " -1.41057268e-01 -7.81710446e-02 -2.91825775e-02 -8.02578591e-03\n",
      "  0.00000000e+00 -1.03421053e-02 -4.32736203e-02 -1.09167017e-01\n",
      " -2.09032580e-01 -3.30224663e-01 -4.54875261e-01 -5.69196820e-01\n",
      " -6.72943592e-01 -7.60601223e-01 -6.08747780e-01  1.45933881e-01\n",
      "  1.02756381e+00  1.21554315e+00  1.14867043e+00  1.14592409e+00\n",
      "  1.21167779e+00  8.79504323e-01 -5.51616065e-02 -6.26990974e-01\n",
      " -4.88062769e-01 -3.68951142e-01 -2.69292206e-01 -1.87212616e-01\n",
      " -1.21627435e-01 -6.64938167e-02 -2.60330029e-02 -5.77331567e-03\n",
      " -4.08251677e-03 -1.00095030e-02 -4.04987298e-02 -9.99847054e-02\n",
      " -1.88201725e-01 -2.99631327e-01 -4.27248478e-01 -5.55251360e-01\n",
      " -4.59112674e-01 -1.95242956e-01  1.00790155e+00  1.26095331e+00\n",
      "  1.17394853e+00  1.11115670e+00  1.09552491e+00  6.59061968e-01\n",
      " -2.62412965e-01 -8.13628316e-01 -6.67126000e-01 -5.22694468e-01\n",
      " -3.99065435e-01 -2.96700627e-01 -2.12626219e-01 -1.48693949e-01\n",
      " -9.68957320e-02 -5.09310886e-02 -2.02144291e-02 -4.08251677e-03\n",
      " -4.08251723e-03 -6.00490579e-03 -3.37063484e-02 -7.89724514e-02\n",
      " -1.47741377e-01 -2.43250251e-01 -8.30458328e-02  1.56042647e+00\n",
      "  1.61327338e+00  1.60667109e+00  1.37992537e+00  1.23963356e+00\n",
      "  1.16030300e+00  6.21560335e-01 -3.61925125e-01 -8.82206976e-01\n",
      " -8.17668140e-01 -6.64655924e-01 -5.23595095e-01 -4.02142018e-01\n",
      " -3.03069174e-01 -2.21680850e-01 -1.59365937e-01 -1.10060699e-01\n",
      " -7.00397640e-02 -3.71356234e-02 -1.22014098e-02 -4.08251723e-03\n",
      "  0.00000000e+00  0.00000000e+00 -2.27387268e-02 -5.19053973e-02\n",
      "  3.07386851e+00  5.60859299e+00  4.62960958e+00  3.53861141e+00\n",
      "  2.59001422e+00  2.02823973e+00  1.68064380e+00  1.39229083e+00\n",
      "  3.01200688e-01 -7.99993634e-01 -8.39748621e-01 -7.34655559e-01\n",
      " -6.12575710e-01 -4.92071211e-01 -3.79928142e-01 -2.88817376e-01\n",
      " -2.13440940e-01 -1.53667778e-01 -1.09126009e-01 -7.40987584e-02\n",
      " -4.33171839e-02 -1.93437934e-02 -1.04024820e-02  0.00000000e+00\n",
      "  0.00000000e+00  0.00000000e+00 -1.03527009e-02 -2.87501011e-02\n",
      "  1.43442316e+01  1.49676666e+01  9.09224796e+00  5.95866013e+00\n",
      "  3.52099752e+00  1.54840922e+00  1.15868437e+00 -3.51803601e-01\n",
      " -5.66505969e-01 -5.62783659e-01 -5.27164698e-01 -4.68057394e-01\n",
      " -3.95805061e-01 -3.24789435e-01 -2.55705029e-01 -1.94611713e-01\n",
      " -1.44574210e-01 -1.01773545e-01 -7.14252219e-02 -4.77777570e-02\n",
      " -2.57524364e-02 -1.13794236e-02 -4.75287484e-03  0.00000000e+00\n",
      "  0.00000000e+00  0.00000000e+00 -6.66430080e-03 -1.09642129e-02\n",
      " -2.76044514e-02 -5.15535995e-02 -8.67718458e-02 -1.28392026e-01\n",
      " -1.75775900e-01 -2.23054439e-01 -2.66640276e-01 -2.94844329e-01\n",
      " -3.07505459e-01 -3.05180132e-01 -2.89231777e-01 -2.63231307e-01\n",
      " -2.33723581e-01 -2.01027825e-01 -1.63691059e-01 -1.27665997e-01\n",
      " -9.39651355e-02 -6.56832606e-02 -4.59265299e-02 -2.87188105e-02\n",
      " -1.56930368e-02 -5.67530608e-03 -4.08251677e-03  0.00000000e+00\n",
      "  0.00000000e+00  0.00000000e+00  0.00000000e+00 -4.08251677e-03\n",
      " -1.51213938e-02 -3.13695520e-02 -5.33302352e-02 -7.92282671e-02\n",
      " -1.08376652e-01 -1.33979067e-01 -1.57513186e-01 -1.75105512e-01\n",
      " -1.82626888e-01 -1.80535346e-01 -1.69876486e-01 -1.53157309e-01\n",
      " -1.35433123e-01 -1.16480298e-01 -9.39512551e-02 -7.25768879e-02\n",
      " -5.23643568e-02 -3.63829993e-02 -2.15030629e-02 -1.30192786e-02\n",
      " -4.49421536e-03 -4.08251677e-03  0.00000000e+00  0.00000000e+00\n",
      "  0.00000000e+00  0.00000000e+00  0.00000000e+00  0.00000000e+00\n",
      " -5.79016376e-03 -9.05384589e-03 -1.60054434e-02 -2.21197587e-02\n",
      " -2.68459972e-02 -3.18450630e-02 -4.37484086e-02 -4.72829454e-02\n",
      " -5.31388037e-02 -5.66228218e-02 -6.03383556e-02 -5.62950000e-02\n",
      " -5.13665378e-02 -4.26322818e-02 -3.31710279e-02 -2.24628821e-02\n",
      " -1.60690881e-02 -1.14322035e-02 -9.00729466e-03 -5.77039411e-03\n",
      "  0.00000000e+00  0.00000000e+00  0.00000000e+00  0.00000000e+00]\n"
     ]
    }
   ],
   "source": [
    "inversed = train_scaler.inverse_transform(x_train)\n",
    "# print(x_train[0])\n",
    "print(inversed[0])"
   ]
  },
  {
   "cell_type": "code",
   "execution_count": 249,
   "metadata": {},
   "outputs": [
    {
     "ename": "KeyboardInterrupt",
     "evalue": "",
     "output_type": "error",
     "traceback": [
      "\u001b[1;31m---------------------------------------------------------------------------\u001b[0m",
      "\u001b[1;31mKeyboardInterrupt\u001b[0m                         Traceback (most recent call last)",
      "\u001b[1;32mc:\\Users\\aryas\\Desktop\\ThirdYear\\CSC311\\GRA-KNN\\src\\knn.ipynb Cell 14\u001b[0m line \u001b[0;36m8\n\u001b[0;32m      <a href='vscode-notebook-cell:/c%3A/Users/aryas/Desktop/ThirdYear/CSC311/GRA-KNN/src/knn.ipynb#X12sZmlsZQ%3D%3D?line=4'>5</a>\u001b[0m model\u001b[39m.\u001b[39mfit(x_train, y_train)\n\u001b[0;32m      <a href='vscode-notebook-cell:/c%3A/Users/aryas/Desktop/ThirdYear/CSC311/GRA-KNN/src/knn.ipynb#X12sZmlsZQ%3D%3D?line=6'>7</a>\u001b[0m \u001b[39m# evaluate the model and print the accuracies list\u001b[39;00m\n\u001b[1;32m----> <a href='vscode-notebook-cell:/c%3A/Users/aryas/Desktop/ThirdYear/CSC311/GRA-KNN/src/knn.ipynb#X12sZmlsZQ%3D%3D?line=7'>8</a>\u001b[0m score \u001b[39m=\u001b[39m model\u001b[39m.\u001b[39;49mscore(x_test, y_test)\n\u001b[0;32m      <a href='vscode-notebook-cell:/c%3A/Users/aryas/Desktop/ThirdYear/CSC311/GRA-KNN/src/knn.ipynb#X12sZmlsZQ%3D%3D?line=8'>9</a>\u001b[0m \u001b[39mprint\u001b[39m(\u001b[39m\"\u001b[39m\u001b[39mk=\u001b[39m\u001b[39m%d\u001b[39;00m\u001b[39m, accuracy=\u001b[39m\u001b[39m%.2f\u001b[39;00m\u001b[39m%%\u001b[39;00m\u001b[39m\"\u001b[39m \u001b[39m%\u001b[39m (k, score \u001b[39m*\u001b[39m \u001b[39m100\u001b[39m))\n\u001b[0;32m     <a href='vscode-notebook-cell:/c%3A/Users/aryas/Desktop/ThirdYear/CSC311/GRA-KNN/src/knn.ipynb#X12sZmlsZQ%3D%3D?line=9'>10</a>\u001b[0m accuracies\u001b[39m.\u001b[39mappend(score)\n",
      "File \u001b[1;32mc:\\Users\\aryas\\AppData\\Local\\Programs\\Python\\Python310\\lib\\site-packages\\sklearn\\base.py:705\u001b[0m, in \u001b[0;36mClassifierMixin.score\u001b[1;34m(self, X, y, sample_weight)\u001b[0m\n\u001b[0;32m    680\u001b[0m \u001b[39m\"\"\"\u001b[39;00m\n\u001b[0;32m    681\u001b[0m \u001b[39mReturn the mean accuracy on the given test data and labels.\u001b[39;00m\n\u001b[0;32m    682\u001b[0m \n\u001b[1;32m   (...)\u001b[0m\n\u001b[0;32m    701\u001b[0m \u001b[39m    Mean accuracy of ``self.predict(X)`` w.r.t. `y`.\u001b[39;00m\n\u001b[0;32m    702\u001b[0m \u001b[39m\"\"\"\u001b[39;00m\n\u001b[0;32m    703\u001b[0m \u001b[39mfrom\u001b[39;00m \u001b[39m.\u001b[39;00m\u001b[39mmetrics\u001b[39;00m \u001b[39mimport\u001b[39;00m accuracy_score\n\u001b[1;32m--> 705\u001b[0m \u001b[39mreturn\u001b[39;00m accuracy_score(y, \u001b[39mself\u001b[39;49m\u001b[39m.\u001b[39;49mpredict(X), sample_weight\u001b[39m=\u001b[39msample_weight)\n",
      "File \u001b[1;32mc:\\Users\\aryas\\AppData\\Local\\Programs\\Python\\Python310\\lib\\site-packages\\sklearn\\neighbors\\_classification.py:249\u001b[0m, in \u001b[0;36mKNeighborsClassifier.predict\u001b[1;34m(self, X)\u001b[0m\n\u001b[0;32m    245\u001b[0m \u001b[39mif\u001b[39;00m \u001b[39mself\u001b[39m\u001b[39m.\u001b[39mweights \u001b[39m==\u001b[39m \u001b[39m\"\u001b[39m\u001b[39muniform\u001b[39m\u001b[39m\"\u001b[39m:\n\u001b[0;32m    246\u001b[0m     \u001b[39mif\u001b[39;00m \u001b[39mself\u001b[39m\u001b[39m.\u001b[39m_fit_method \u001b[39m==\u001b[39m \u001b[39m\"\u001b[39m\u001b[39mbrute\u001b[39m\u001b[39m\"\u001b[39m \u001b[39mand\u001b[39;00m ArgKminClassMode\u001b[39m.\u001b[39mis_usable_for(\n\u001b[0;32m    247\u001b[0m         X, \u001b[39mself\u001b[39m\u001b[39m.\u001b[39m_fit_X, \u001b[39mself\u001b[39m\u001b[39m.\u001b[39mmetric\n\u001b[0;32m    248\u001b[0m     ):\n\u001b[1;32m--> 249\u001b[0m         probabilities \u001b[39m=\u001b[39m \u001b[39mself\u001b[39;49m\u001b[39m.\u001b[39;49mpredict_proba(X)\n\u001b[0;32m    250\u001b[0m         \u001b[39mif\u001b[39;00m \u001b[39mself\u001b[39m\u001b[39m.\u001b[39moutputs_2d_:\n\u001b[0;32m    251\u001b[0m             \u001b[39mreturn\u001b[39;00m np\u001b[39m.\u001b[39mstack(\n\u001b[0;32m    252\u001b[0m                 [\n\u001b[0;32m    253\u001b[0m                     \u001b[39mself\u001b[39m\u001b[39m.\u001b[39mclasses_[idx][np\u001b[39m.\u001b[39margmax(probas, axis\u001b[39m=\u001b[39m\u001b[39m1\u001b[39m)]\n\u001b[1;32m   (...)\u001b[0m\n\u001b[0;32m    256\u001b[0m                 axis\u001b[39m=\u001b[39m\u001b[39m1\u001b[39m,\n\u001b[0;32m    257\u001b[0m             )\n",
      "File \u001b[1;32mc:\\Users\\aryas\\AppData\\Local\\Programs\\Python\\Python310\\lib\\site-packages\\sklearn\\neighbors\\_classification.py:350\u001b[0m, in \u001b[0;36mKNeighborsClassifier.predict_proba\u001b[1;34m(self, X)\u001b[0m\n\u001b[0;32m    346\u001b[0m         \u001b[39mreturn\u001b[39;00m probabilities\n\u001b[0;32m    348\u001b[0m     \u001b[39m# In that case, we do not need the distances to perform\u001b[39;00m\n\u001b[0;32m    349\u001b[0m     \u001b[39m# the weighting so we do not compute them.\u001b[39;00m\n\u001b[1;32m--> 350\u001b[0m     neigh_ind \u001b[39m=\u001b[39m \u001b[39mself\u001b[39;49m\u001b[39m.\u001b[39;49mkneighbors(X, return_distance\u001b[39m=\u001b[39;49m\u001b[39mFalse\u001b[39;49;00m)\n\u001b[0;32m    351\u001b[0m     neigh_dist \u001b[39m=\u001b[39m \u001b[39mNone\u001b[39;00m\n\u001b[0;32m    352\u001b[0m \u001b[39melse\u001b[39;00m:\n",
      "File \u001b[1;32mc:\\Users\\aryas\\AppData\\Local\\Programs\\Python\\Python310\\lib\\site-packages\\sklearn\\neighbors\\_base.py:822\u001b[0m, in \u001b[0;36mKNeighborsMixin.kneighbors\u001b[1;34m(self, X, n_neighbors, return_distance)\u001b[0m\n\u001b[0;32m    815\u001b[0m use_pairwise_distances_reductions \u001b[39m=\u001b[39m (\n\u001b[0;32m    816\u001b[0m     \u001b[39mself\u001b[39m\u001b[39m.\u001b[39m_fit_method \u001b[39m==\u001b[39m \u001b[39m\"\u001b[39m\u001b[39mbrute\u001b[39m\u001b[39m\"\u001b[39m\n\u001b[0;32m    817\u001b[0m     \u001b[39mand\u001b[39;00m ArgKmin\u001b[39m.\u001b[39mis_usable_for(\n\u001b[0;32m    818\u001b[0m         X \u001b[39mif\u001b[39;00m X \u001b[39mis\u001b[39;00m \u001b[39mnot\u001b[39;00m \u001b[39mNone\u001b[39;00m \u001b[39melse\u001b[39;00m \u001b[39mself\u001b[39m\u001b[39m.\u001b[39m_fit_X, \u001b[39mself\u001b[39m\u001b[39m.\u001b[39m_fit_X, \u001b[39mself\u001b[39m\u001b[39m.\u001b[39meffective_metric_\n\u001b[0;32m    819\u001b[0m     )\n\u001b[0;32m    820\u001b[0m )\n\u001b[0;32m    821\u001b[0m \u001b[39mif\u001b[39;00m use_pairwise_distances_reductions:\n\u001b[1;32m--> 822\u001b[0m     results \u001b[39m=\u001b[39m ArgKmin\u001b[39m.\u001b[39;49mcompute(\n\u001b[0;32m    823\u001b[0m         X\u001b[39m=\u001b[39;49mX,\n\u001b[0;32m    824\u001b[0m         Y\u001b[39m=\u001b[39;49m\u001b[39mself\u001b[39;49m\u001b[39m.\u001b[39;49m_fit_X,\n\u001b[0;32m    825\u001b[0m         k\u001b[39m=\u001b[39;49mn_neighbors,\n\u001b[0;32m    826\u001b[0m         metric\u001b[39m=\u001b[39;49m\u001b[39mself\u001b[39;49m\u001b[39m.\u001b[39;49meffective_metric_,\n\u001b[0;32m    827\u001b[0m         metric_kwargs\u001b[39m=\u001b[39;49m\u001b[39mself\u001b[39;49m\u001b[39m.\u001b[39;49meffective_metric_params_,\n\u001b[0;32m    828\u001b[0m         strategy\u001b[39m=\u001b[39;49m\u001b[39m\"\u001b[39;49m\u001b[39mauto\u001b[39;49m\u001b[39m\"\u001b[39;49m,\n\u001b[0;32m    829\u001b[0m         return_distance\u001b[39m=\u001b[39;49mreturn_distance,\n\u001b[0;32m    830\u001b[0m     )\n\u001b[0;32m    832\u001b[0m \u001b[39melif\u001b[39;00m (\n\u001b[0;32m    833\u001b[0m     \u001b[39mself\u001b[39m\u001b[39m.\u001b[39m_fit_method \u001b[39m==\u001b[39m \u001b[39m\"\u001b[39m\u001b[39mbrute\u001b[39m\u001b[39m\"\u001b[39m \u001b[39mand\u001b[39;00m \u001b[39mself\u001b[39m\u001b[39m.\u001b[39mmetric \u001b[39m==\u001b[39m \u001b[39m\"\u001b[39m\u001b[39mprecomputed\u001b[39m\u001b[39m\"\u001b[39m \u001b[39mand\u001b[39;00m issparse(X)\n\u001b[0;32m    834\u001b[0m ):\n\u001b[0;32m    835\u001b[0m     results \u001b[39m=\u001b[39m _kneighbors_from_graph(\n\u001b[0;32m    836\u001b[0m         X, n_neighbors\u001b[39m=\u001b[39mn_neighbors, return_distance\u001b[39m=\u001b[39mreturn_distance\n\u001b[0;32m    837\u001b[0m     )\n",
      "File \u001b[1;32mc:\\Users\\aryas\\AppData\\Local\\Programs\\Python\\Python310\\lib\\site-packages\\sklearn\\metrics\\_pairwise_distances_reduction\\_dispatcher.py:270\u001b[0m, in \u001b[0;36mArgKmin.compute\u001b[1;34m(cls, X, Y, k, metric, chunk_size, metric_kwargs, strategy, return_distance)\u001b[0m\n\u001b[0;32m    258\u001b[0m     \u001b[39mreturn\u001b[39;00m ArgKmin64\u001b[39m.\u001b[39mcompute(\n\u001b[0;32m    259\u001b[0m         X\u001b[39m=\u001b[39mX,\n\u001b[0;32m    260\u001b[0m         Y\u001b[39m=\u001b[39mY,\n\u001b[1;32m   (...)\u001b[0m\n\u001b[0;32m    266\u001b[0m         return_distance\u001b[39m=\u001b[39mreturn_distance,\n\u001b[0;32m    267\u001b[0m     )\n\u001b[0;32m    269\u001b[0m \u001b[39mif\u001b[39;00m X\u001b[39m.\u001b[39mdtype \u001b[39m==\u001b[39m Y\u001b[39m.\u001b[39mdtype \u001b[39m==\u001b[39m np\u001b[39m.\u001b[39mfloat32:\n\u001b[1;32m--> 270\u001b[0m     \u001b[39mreturn\u001b[39;00m ArgKmin32\u001b[39m.\u001b[39;49mcompute(\n\u001b[0;32m    271\u001b[0m         X\u001b[39m=\u001b[39;49mX,\n\u001b[0;32m    272\u001b[0m         Y\u001b[39m=\u001b[39;49mY,\n\u001b[0;32m    273\u001b[0m         k\u001b[39m=\u001b[39;49mk,\n\u001b[0;32m    274\u001b[0m         metric\u001b[39m=\u001b[39;49mmetric,\n\u001b[0;32m    275\u001b[0m         chunk_size\u001b[39m=\u001b[39;49mchunk_size,\n\u001b[0;32m    276\u001b[0m         metric_kwargs\u001b[39m=\u001b[39;49mmetric_kwargs,\n\u001b[0;32m    277\u001b[0m         strategy\u001b[39m=\u001b[39;49mstrategy,\n\u001b[0;32m    278\u001b[0m         return_distance\u001b[39m=\u001b[39;49mreturn_distance,\n\u001b[0;32m    279\u001b[0m     )\n\u001b[0;32m    281\u001b[0m \u001b[39mraise\u001b[39;00m \u001b[39mValueError\u001b[39;00m(\n\u001b[0;32m    282\u001b[0m     \u001b[39m\"\u001b[39m\u001b[39mOnly float64 or float32 datasets pairs are supported at this time, \u001b[39m\u001b[39m\"\u001b[39m\n\u001b[0;32m    283\u001b[0m     \u001b[39mf\u001b[39m\u001b[39m\"\u001b[39m\u001b[39mgot: X.dtype=\u001b[39m\u001b[39m{\u001b[39;00mX\u001b[39m.\u001b[39mdtype\u001b[39m}\u001b[39;00m\u001b[39m and Y.dtype=\u001b[39m\u001b[39m{\u001b[39;00mY\u001b[39m.\u001b[39mdtype\u001b[39m}\u001b[39;00m\u001b[39m.\u001b[39m\u001b[39m\"\u001b[39m\n\u001b[0;32m    284\u001b[0m )\n",
      "File \u001b[1;32msklearn\\metrics\\_pairwise_distances_reduction\\_argkmin.pyx:575\u001b[0m, in \u001b[0;36msklearn.metrics._pairwise_distances_reduction._argkmin.ArgKmin32.compute\u001b[1;34m()\u001b[0m\n",
      "File \u001b[1;32mc:\\Users\\aryas\\AppData\\Local\\Programs\\Python\\Python310\\lib\\site-packages\\threadpoolctl.py:440\u001b[0m, in \u001b[0;36m_ThreadpoolLimiter.__exit__\u001b[1;34m(self, type, value, traceback)\u001b[0m\n\u001b[0;32m    437\u001b[0m \u001b[39mdef\u001b[39;00m \u001b[39m__enter__\u001b[39m(\u001b[39mself\u001b[39m):\n\u001b[0;32m    438\u001b[0m     \u001b[39mreturn\u001b[39;00m \u001b[39mself\u001b[39m\n\u001b[1;32m--> 440\u001b[0m \u001b[39mdef\u001b[39;00m \u001b[39m__exit__\u001b[39m(\u001b[39mself\u001b[39m, \u001b[39mtype\u001b[39m, value, traceback):\n\u001b[0;32m    441\u001b[0m     \u001b[39mself\u001b[39m\u001b[39m.\u001b[39mrestore_original_limits()\n\u001b[0;32m    443\u001b[0m \u001b[39m@classmethod\u001b[39m\n\u001b[0;32m    444\u001b[0m \u001b[39mdef\u001b[39;00m \u001b[39mwrap\u001b[39m(\u001b[39mcls\u001b[39m, controller, \u001b[39m*\u001b[39m, limits\u001b[39m=\u001b[39m\u001b[39mNone\u001b[39;00m, user_api\u001b[39m=\u001b[39m\u001b[39mNone\u001b[39;00m):\n",
      "\u001b[1;31mKeyboardInterrupt\u001b[0m: "
     ]
    }
   ],
   "source": [
    "for k in kVals:\n",
    "    # train the classifier with the current value of `k`\n",
    "    model = KNeighborsClassifier(n_neighbors=k)\n",
    "\n",
    "    model.fit(x_train, y_train)\n",
    "\n",
    "    # evaluate the model and print the accuracies list\n",
    "    score = model.score(x_test, y_test)\n",
    "    print(\"k=%d, accuracy=%.2f%%\" % (k, score * 100))\n",
    "    accuracies.append(score)"
   ]
  },
  {
   "cell_type": "code",
   "execution_count": 250,
   "metadata": {},
   "outputs": [
    {
     "data": {
      "text/plain": [
       "(60000, 784)"
      ]
     },
     "execution_count": 250,
     "metadata": {},
     "output_type": "execute_result"
    }
   ],
   "source": [
    "x_train.shape"
   ]
  },
  {
   "cell_type": "code",
   "execution_count": 264,
   "metadata": {},
   "outputs": [
    {
     "name": "stdout",
     "output_type": "stream",
     "text": [
      "[[ 3.35877139e-08 -1.25436390e-08  3.26888738e-09 ... -0.00000000e+00\n",
      "  -0.00000000e+00 -0.00000000e+00]\n",
      " [-3.49810705e-08 -1.99582857e-08 -6.99455271e-10 ...  0.00000000e+00\n",
      "   0.00000000e+00  0.00000000e+00]\n",
      " [-1.69468812e-08  7.77514853e-09 -1.22803945e-08 ...  0.00000000e+00\n",
      "   0.00000000e+00  0.00000000e+00]\n",
      " ...\n",
      " [ 2.22460059e-08  7.35965910e-09 -1.46153667e-08 ... -0.00000000e+00\n",
      "  -0.00000000e+00 -0.00000000e+00]\n",
      " [ 1.85850713e-08  2.41662246e-09 -1.64923932e-08 ...  0.00000000e+00\n",
      "   0.00000000e+00  0.00000000e+00]\n",
      " [ 2.14546638e-08 -1.66950578e-08  2.57554795e-08 ...  0.00000000e+00\n",
      "   0.00000000e+00  0.00000000e+00]]\n"
     ]
    }
   ],
   "source": [
    "from sklearn.decomposition import PCA\n",
    "pca = PCA(n_components=331)\n",
    "\n",
    "pca.fit(x_train)\n",
    "print(pca.components_)\n",
    "eigen_numbers = pca.components_\n",
    "pca_train = pca.fit_transform(x_train)"
   ]
  },
  {
   "cell_type": "code",
   "execution_count": 252,
   "metadata": {},
   "outputs": [
    {
     "data": {
      "image/png": "[encoded data removed]",
      "text/plain": [
       "<Figure size 640x480 with 1 Axes>"
      ]
     },
     "metadata": {},
     "output_type": "display_data"
    }
   ],
   "source": [
    "i = 1\n",
    "train_scaler.inverse_transform(eigen_numbers)\n",
    "plt.imshow(eigen_numbers[i].reshape((28, 28)), cmap='gray_r')\n",
    "\n",
    "# print(y_train[i])\n",
    "#Actually displaying the plot if you are not in interactive mode\n",
    "plt.show()"
   ]
  },
  {
   "cell_type": "code",
   "execution_count": 224,
   "metadata": {},
   "outputs": [],
   "source": [
    "import matplotlib.pyplot as plt\n",
    "import matplotlib.image\n",
    "import numpy as np"
   ]
  },
  {
   "cell_type": "code",
   "execution_count": 253,
   "metadata": {},
   "outputs": [
    {
     "name": "stdout",
     "output_type": "stream",
     "text": [
      "9\n"
     ]
    },
    {
     "data": {
      "image/png": "[encoded data removed]",
      "text/plain": [
       "<Figure size 640x480 with 1 Axes>"
      ]
     },
     "metadata": {},
     "output_type": "display_data"
    }
   ],
   "source": [
    "\n",
    "# first_array=np.reshape(x_train[0], (28,28))\n",
    "#Not sure you even have to do that if you just want to visualize it\n",
    "# first_array=255*first_array\n",
    "# first_array=first_array.astype(\"uint8\")\n",
    "# plt.imshow(first_array)\n",
    "i = 92\n",
    "plt.imshow(x_test[i].reshape((28, 28)), cmap='gray_r')\n",
    "print(y_test[i])\n",
    "#Actually displaying the plot if you are not in interactive mode\n",
    "plt.show()\n",
    "#Saving plot\n",
    "# plt.savefig(\"fig.png\")"
   ]
  },
  {
   "cell_type": "code",
   "execution_count": 254,
   "metadata": {},
   "outputs": [
    {
     "data": {
      "text/plain": [
       "(60000, 331)"
      ]
     },
     "execution_count": 254,
     "metadata": {},
     "output_type": "execute_result"
    }
   ],
   "source": [
    "pca_train.shape"
   ]
  },
  {
   "cell_type": "code",
   "execution_count": 260,
   "metadata": {},
   "outputs": [],
   "source": [
    "pca2 = PCA(n_components=331)\n",
    "pca_test = pca.fit_transform(x_test)"
   ]
  },
  {
   "cell_type": "code",
   "execution_count": 256,
   "metadata": {},
   "outputs": [
    {
     "data": {
      "text/plain": [
       "(10000, 331)"
      ]
     },
     "execution_count": 256,
     "metadata": {},
     "output_type": "execute_result"
    }
   ],
   "source": [
    "pca_test.shape\n",
    "# pca_train.shape"
   ]
  },
  {
   "cell_type": "code",
   "execution_count": 270,
   "metadata": {},
   "outputs": [
    {
     "name": "stdout",
     "output_type": "stream",
     "text": [
      "k=1, accuracy=46.22%\n",
      "k=5, accuracy=46.90%\n",
      "k=10, accuracy=47.66%\n",
      "k=20, accuracy=47.78%\n",
      "k=30, accuracy=47.67%\n"
     ]
    }
   ],
   "source": [
    "inversed_train = train_scaler.inverse_transform(x_train)\n",
    "inversed_test = pca.inverse_transform(pca_test)\n",
    "for k in kVals:\n",
    "    # train the classifier with the current value of `k`\n",
    "    model = KNeighborsClassifier(n_neighbors=k)\n",
    "\n",
    "    model.fit(inversed_train, y_train)\n",
    "\n",
    "    # evaluate the model and print the accuracies list\n",
    "    score = model.score(inversed_test, y_test)\n",
    "    print(\"k=%d, accuracy=%.2f%%\" % (k, score * 100))\n",
    "    accuracies.append(score)"
   ]
  }
 ],
 "metadata": {
  "kernelspec": {
   "display_name": "Python 3",
   "language": "python",
   "name": "python3"
  },
  "language_info": {
   "codemirror_mode": {
    "name": "ipython",
    "version": 3
   },
   "file_extension": ".py",
   "mimetype": "text/x-python",
   "name": "python",
   "nbconvert_exporter": "python",
   "pygments_lexer": "ipython3",
   "version": "3.10.1"
  }
 },
 "nbformat": 4,
 "nbformat_minor": 2
}
