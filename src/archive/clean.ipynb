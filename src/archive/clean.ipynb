{
 "cells": [
  {
   "cell_type": "code",
   "execution_count": 7,
   "metadata": {},
   "outputs": [],
   "source": [
    "import matplotlib.pyplot as plt\n",
    "import tensorflow as tf\n",
    "from sklearn.neighbors import KNeighborsClassifier\n",
    "from sklearn.preprocessing import StandardScaler\n",
    "from sklearn.decomposition import PCA\n",
    "import numpy as np\n",
    "from sklearn.model_selection import train_test_split\n",
    "import cv2\n",
    "from sklearn.tree import DecisionTreeClassifier"
   ]
  },
  {
   "cell_type": "code",
   "execution_count": 34,
   "metadata": {},
   "outputs": [],
   "source": [
    "mnist = tf.keras.datasets.mnist\n",
    "\n",
    "(x_train, y_train), (x_test, y_test) = mnist.load_data()\n",
    "# (x_train, y_train), (x_test, y_test) = tf.keras.datasets.fashion_mnist.load_data()\n",
    "x_train = x_train.astype('uint8')   \n",
    "x_test = x_test.astype('uint8')\n",
    "\n",
    "x_train.shape\n",
    "\n",
    "\n",
    "x_train, _, y_train, _ = train_test_split(x_train, y_train, test_size=0.95)\n",
    "\n",
    "x_test, _, y_test, _ = train_test_split(x_test, y_test, test_size=0.95)\n"
   ]
  },
  {
   "cell_type": "code",
   "execution_count": 35,
   "metadata": {},
   "outputs": [
    {
     "name": "stdout",
     "output_type": "stream",
     "text": [
      "(3000, 28, 28)\n",
      "(3000,)\n",
      "(500, 28, 28)\n",
      "(500,)\n"
     ]
    }
   ],
   "source": [
    "print(x_train.shape)\n",
    "print(y_train.shape)\n",
    "print(x_test.shape)\n",
    "print(y_test.shape)"
   ]
  },
  {
   "cell_type": "code",
   "execution_count": 36,
   "metadata": {},
   "outputs": [],
   "source": [
    "x_train = x_train.reshape(-1, 28*28)\n",
    "x_test = x_test.reshape(-1, 28*28)\n",
    "x_train = x_train.astype('float32')   \n",
    "x_test = x_test.astype('float32')"
   ]
  },
  {
   "cell_type": "code",
   "execution_count": 37,
   "metadata": {},
   "outputs": [
    {
     "data": {
      "text/plain": [
       "350"
      ]
     },
     "execution_count": 37,
     "metadata": {},
     "output_type": "execute_result"
    }
   ],
   "source": [
    "# Train a Decision Tree on the data (Decision tree uses IG for the splits)\n",
    "tree = DecisionTreeClassifier(random_state=0)\n",
    "tree.fit(x_train, y_train)\n",
    "importances = tree.feature_importances_\n",
    "indices = np.argsort(importances)[::-1]\n",
    "indices[0]"
   ]
  },
  {
   "cell_type": "code",
   "execution_count": 38,
   "metadata": {},
   "outputs": [
    {
     "name": "stdout",
     "output_type": "stream",
     "text": [
      "[350 489 570 435 271 211 486 432 234 657 353 156 624 655 296 377 290 544\n",
      " 329 243 157 210 490 466 265 297 204 190 294 347 154 267 433 384 274 352\n",
      " 607 456 176 656 355 379 240 459 598 457 321 515 550 188 629 680 400 263\n",
      " 599 428 654 155 178 467 526 403 373 595 344 659 291 412 214 151 269 406\n",
      " 185 317 295 485 371 488 189 491 427 152 401 431 541 465 383 293 567 573\n",
      " 518 124 326 180 658 247 158 660  98 436]\n"
     ]
    }
   ],
   "source": [
    "N = 100  # Change this to select number of features based on IG\n",
    "selected_features = indices[:N]\n",
    "print(selected_features)\n",
    "# Apply the selection to training and test data\n",
    "x_train_selected = x_train[:, selected_features]\n",
    "x_test_selected = x_test[:, selected_features]\n"
   ]
  },
  {
   "cell_type": "code",
   "execution_count": 40,
   "metadata": {},
   "outputs": [
    {
     "name": "stdout",
     "output_type": "stream",
     "text": [
      "k=1, accuracy=91.00%\n",
      "k=5, accuracy=91.00%\n",
      "k=10, accuracy=90.80%\n",
      "k=20, accuracy=88.40%\n",
      "k=30, accuracy=88.00%\n"
     ]
    }
   ],
   "source": [
    "kVals = [1, 5, 10, 20, 30]\n",
    "accuracies = []\n",
    "\n",
    "for k in kVals:\n",
    "    model = KNeighborsClassifier(n_neighbors=k)\n",
    "    model.fit(x_train_selected, y_train)\n",
    "    score = model.score(x_test_selected, y_test)\n",
    "    print(f\"k={k}, accuracy={score * 100:.2f}%\")\n",
    "    accuracies.append(score)"
   ]
  },
  {
   "cell_type": "code",
   "execution_count": 41,
   "metadata": {},
   "outputs": [
    {
     "name": "stdout",
     "output_type": "stream",
     "text": [
      "k=5, accuracy=22.40%\n",
      "k=10, accuracy=28.80%\n",
      "k=20, accuracy=40.20%\n",
      "k=30, accuracy=48.20%\n",
      "k=50, accuracy=53.00%\n",
      "k=100, accuracy=60.00%\n"
     ]
    }
   ],
   "source": [
    "kVals = [5,10,20,30,50,100]\n",
    "for k in kVals:\n",
    "    count = 0\n",
    "    for i in range(len(x_test_selected)):\n",
    "        x = x_test_selected[i]\n",
    "\n",
    "        distance_matrix = np.argsort(abs(x - x_train_selected), axis=0)\n",
    "        k_neighbor_labels = np.array([])\n",
    "        k_star = k\n",
    "        for l in range(len(x)):\n",
    "            if k_star <= 0: break\n",
    "\n",
    "            distances_along_axis = np.array(distance_matrix[:,l][:k_star])\n",
    "\n",
    "            k_neighbor_labels = np.concatenate([k_neighbor_labels,distances_along_axis])\n",
    "            k_star -= 2\n",
    "        \n",
    "        labels = y_train[np.array(k_neighbor_labels).flatten().astype(int)]\n",
    "\n",
    "        most_common = np.bincount(labels).argmax()\n",
    "        if most_common == y_test[i]:\n",
    "            count += 1\n",
    "    score = count / len(x_test_selected)\n",
    "    print(\"k=%d, accuracy=%.2f%%\" % (k, score * 100))"
   ]
  },
  {
   "cell_type": "code",
   "execution_count": 42,
   "metadata": {},
   "outputs": [
    {
     "name": "stdout",
     "output_type": "stream",
     "text": [
      "k=5, accuracy=66.00%\n",
      "k=10, accuracy=73.60%\n",
      "k=20, accuracy=80.20%\n",
      "k=30, accuracy=83.20%\n",
      "k=50, accuracy=84.60%\n",
      "k=100, accuracy=84.80%\n",
      "k=150, accuracy=85.00%\n"
     ]
    }
   ],
   "source": [
    "kVals = [5,10,20,30,50,100, 150]\n",
    "for k in kVals:\n",
    "    count = 0\n",
    "    for i in range(len(x_test_selected)):\n",
    "        x = x_test_selected[i]\n",
    "        k_neighbor_labels = np.array([])\n",
    "        k_star = k\n",
    "        for l in range(len(selected_features)):\n",
    "            if k_star <= 0: break\n",
    "            imp_feature_neighbours = np.array([l, l+1, l+27, l+28, l+29, l-1, l-27, l-28, l-29]) # this is for neighbour pixesl\n",
    "            mask = imp_feature_neighbours < 100\n",
    "            imp_feature_neighbours = imp_feature_neighbours[mask]\n",
    "            distances = np.linalg.norm(x[imp_feature_neighbours] - x_train_selected[:,imp_feature_neighbours], axis=1)\n",
    "            distances_along_axis = np.argsort(distances)[:k_star]\n",
    "            k_neighbor_labels = np.concatenate([k_neighbor_labels,distances_along_axis])\n",
    "            \n",
    "            # k_star = k_star // 2\n",
    "            k_star -= 2\n",
    "        \n",
    "        labels = y_train[np.array(k_neighbor_labels).flatten().astype(int)]\n",
    "\n",
    "        most_common = np.bincount(labels).argmax()\n",
    "        if most_common == y_test[i]:\n",
    "            count += 1\n",
    "    score = count / len(x_test_selected)\n",
    "    print(\"k=%d, accuracy=%.2f%%\" % (k, score * 100))"
   ]
  },
  {
   "cell_type": "code",
   "execution_count": 44,
   "metadata": {},
   "outputs": [
    {
     "name": "stdout",
     "output_type": "stream",
     "text": [
      "k=5, accuracy=76.20%\n",
      "k=10, accuracy=85.40%\n",
      "k=20, accuracy=87.20%\n",
      "k=30, accuracy=88.20%\n",
      "k=50, accuracy=88.80%\n",
      "k=100, accuracy=87.20%\n",
      "k=150, accuracy=85.40%\n"
     ]
    }
   ],
   "source": [
    "covariance_matrix = np.cov(x_train_selected, rowvar=False)\n",
    "num_top_features = 20\n",
    "top_features_indices = np.argsort(-np.abs(covariance_matrix), axis=1)[:, 1:num_top_features + 1]\n",
    "\n",
    "# kVals = [1, 2,3,5,6,7,8,10, 15, 20, 30, 50, 100]\n",
    "kVals = [5,10,20,30,50,100, 150]\n",
    "for k in kVals:\n",
    "    count = 0\n",
    "    for i in range(len(x_test_selected)):\n",
    "        x = x_test_selected[i]\n",
    "        k_neighbor_labels = np.array([])\n",
    "        k_star = k\n",
    "        for l in range(len(selected_features)):\n",
    "            if k_star <= 0: break\n",
    "            # distances = [np.linalg.norm(x - data_point) for data_point in x_train]\n",
    "            imp_feature_neighbours = top_features_indices[l] # THIS IS FOR COVARIANCE\n",
    "            # imp_feature_neighbours = np.array([l, l+1, l+27, l+28, l+29, l-1, l-27, l-28, l-29]) # this is for neighbour pixesl\n",
    "            # mask = imp_feature_neighbours <= 783\n",
    "            # imp_feature_neighbours = imp_feature_neighbours[mask]\n",
    "            distances = np.linalg.norm(x[imp_feature_neighbours] - x_train_selected[:,imp_feature_neighbours], axis=1)\n",
    "            distances_along_axis = np.argsort(distances)[:k_star]\n",
    "            k_neighbor_labels = np.concatenate([k_neighbor_labels,distances_along_axis])\n",
    "            # k_star = k_star // 2\n",
    "            k_star -= 2\n",
    "        \n",
    "        labels = y_train[np.array(k_neighbor_labels).flatten().astype(int)]\n",
    "\n",
    "        most_common = np.bincount(labels).argmax()\n",
    "        if most_common == y_test[i]:\n",
    "            count += 1\n",
    "    score = count / len(x_test_selected)\n",
    "    print(\"k=%d, accuracy=%.2f%%\" % (k, score * 100))"
   ]
  },
  {
   "cell_type": "code",
   "execution_count": null,
   "metadata": {},
   "outputs": [],
   "source": []
  }
 ],
 "metadata": {
  "kernelspec": {
   "display_name": "Python 3",
   "language": "python",
   "name": "python3"
  },
  "language_info": {
   "codemirror_mode": {
    "name": "ipython",
    "version": 3
   },
   "file_extension": ".py",
   "mimetype": "text/x-python",
   "name": "python",
   "nbconvert_exporter": "python",
   "pygments_lexer": "ipython3",
   "version": "3.10.1"
  }
 },
 "nbformat": 4,
 "nbformat_minor": 2
}
